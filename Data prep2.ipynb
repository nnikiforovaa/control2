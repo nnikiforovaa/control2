{
 "cells": [
  {
   "cell_type": "markdown",
   "metadata": {},
   "source": [
    "# Никифорова Анастасия 5 вариант "
   ]
  },
  {
   "cell_type": "markdown",
   "metadata": {},
   "source": [
    "## Импорт датасета"
   ]
  },
  {
   "cell_type": "markdown",
   "metadata": {},
   "source": [
    "Имеем датасет магазинов с определенными характеристиками. За переменную Y я возьму количество чеков. Мне кажется, что это наиболее оптимальный вариант для зависимой переменной."
   ]
  },
  {
   "cell_type": "markdown",
   "metadata": {},
   "source": [
    "Импортируем указанные библиотеки под сокращенным именем для удобства."
   ]
  },
  {
   "cell_type": "code",
   "execution_count": 1,
   "metadata": {},
   "outputs": [],
   "source": [
    "#!pip install -r requirements.txt"
   ]
  },
  {
   "cell_type": "code",
   "execution_count": 2,
   "metadata": {},
   "outputs": [],
   "source": [
    "import numpy as np\n",
    "import matplotlib.pyplot as plt\n",
    "import pandas as pd"
   ]
  },
  {
   "cell_type": "markdown",
   "metadata": {},
   "source": [
    "Записываем в переменную df наш датасет."
   ]
  },
  {
   "cell_type": "code",
   "execution_count": 3,
   "metadata": {},
   "outputs": [],
   "source": [
    "df = pd.read_csv('Nikiforova.csv', sep=';')"
   ]
  },
  {
   "cell_type": "markdown",
   "metadata": {},
   "source": [
    "Выведем датасет для проверки. Видим, что всё отображается корректно."
   ]
  },
  {
   "cell_type": "code",
   "execution_count": 4,
   "metadata": {},
   "outputs": [
    {
     "data": {
      "text/html": [
       "<div>\n",
       "<style scoped>\n",
       "    .dataframe tbody tr th:only-of-type {\n",
       "        vertical-align: middle;\n",
       "    }\n",
       "\n",
       "    .dataframe tbody tr th {\n",
       "        vertical-align: top;\n",
       "    }\n",
       "\n",
       "    .dataframe thead th {\n",
       "        text-align: right;\n",
       "    }\n",
       "</style>\n",
       "<table border=\"1\" class=\"dataframe\">\n",
       "  <thead>\n",
       "    <tr style=\"text-align: right;\">\n",
       "      <th></th>\n",
       "      <th>square</th>\n",
       "      <th>floor</th>\n",
       "      <th>type</th>\n",
       "      <th>staff</th>\n",
       "      <th>reviews</th>\n",
       "      <th>store_checks</th>\n",
       "      <th>number_of_units</th>\n",
       "      <th>cars_per_day</th>\n",
       "      <th>average_income_of_customers</th>\n",
       "      <th>road</th>\n",
       "      <th>place_for_walk</th>\n",
       "      <th>coating_quality</th>\n",
       "      <th>spontaneous_trade</th>\n",
       "      <th>place_for_picnic</th>\n",
       "      <th>success</th>\n",
       "    </tr>\n",
       "  </thead>\n",
       "  <tbody>\n",
       "    <tr>\n",
       "      <th>0</th>\n",
       "      <td>9.00</td>\n",
       "      <td>1</td>\n",
       "      <td>МАФ</td>\n",
       "      <td>2</td>\n",
       "      <td>NaN</td>\n",
       "      <td>571.0</td>\n",
       "      <td>1.56</td>\n",
       "      <td>12679.0</td>\n",
       "      <td>14910.0</td>\n",
       "      <td>0</td>\n",
       "      <td>0</td>\n",
       "      <td>0</td>\n",
       "      <td>0</td>\n",
       "      <td>0</td>\n",
       "      <td>не успішний</td>\n",
       "    </tr>\n",
       "    <tr>\n",
       "      <th>1</th>\n",
       "      <td>30.00</td>\n",
       "      <td>1</td>\n",
       "      <td>МАФ</td>\n",
       "      <td>2</td>\n",
       "      <td>8.0</td>\n",
       "      <td>1197.0</td>\n",
       "      <td>2.03</td>\n",
       "      <td>12800.0</td>\n",
       "      <td>9030.0</td>\n",
       "      <td>0</td>\n",
       "      <td>0</td>\n",
       "      <td>0</td>\n",
       "      <td>0</td>\n",
       "      <td>0</td>\n",
       "      <td>не успішний</td>\n",
       "    </tr>\n",
       "    <tr>\n",
       "      <th>2</th>\n",
       "      <td>15.00</td>\n",
       "      <td>1</td>\n",
       "      <td>МАФ</td>\n",
       "      <td>2</td>\n",
       "      <td>NaN</td>\n",
       "      <td>402.0</td>\n",
       "      <td>1.81</td>\n",
       "      <td>77106.0</td>\n",
       "      <td>9030.0</td>\n",
       "      <td>0</td>\n",
       "      <td>0</td>\n",
       "      <td>0</td>\n",
       "      <td>0</td>\n",
       "      <td>0</td>\n",
       "      <td>не успішний</td>\n",
       "    </tr>\n",
       "    <tr>\n",
       "      <th>3</th>\n",
       "      <td>20.00</td>\n",
       "      <td>1</td>\n",
       "      <td>МАФ</td>\n",
       "      <td>2</td>\n",
       "      <td>NaN</td>\n",
       "      <td>1036.0</td>\n",
       "      <td>2.18</td>\n",
       "      <td>0.0</td>\n",
       "      <td>13930.0</td>\n",
       "      <td>0</td>\n",
       "      <td>0</td>\n",
       "      <td>0</td>\n",
       "      <td>0</td>\n",
       "      <td>0</td>\n",
       "      <td>не успішний</td>\n",
       "    </tr>\n",
       "    <tr>\n",
       "      <th>4</th>\n",
       "      <td>30.00</td>\n",
       "      <td>1</td>\n",
       "      <td>Вбудоване приміщення</td>\n",
       "      <td>2</td>\n",
       "      <td>NaN</td>\n",
       "      <td>513.0</td>\n",
       "      <td>1.63</td>\n",
       "      <td>0.0</td>\n",
       "      <td>14560.0</td>\n",
       "      <td>0</td>\n",
       "      <td>0</td>\n",
       "      <td>0</td>\n",
       "      <td>0</td>\n",
       "      <td>0</td>\n",
       "      <td>не успішний</td>\n",
       "    </tr>\n",
       "    <tr>\n",
       "      <th>...</th>\n",
       "      <td>...</td>\n",
       "      <td>...</td>\n",
       "      <td>...</td>\n",
       "      <td>...</td>\n",
       "      <td>...</td>\n",
       "      <td>...</td>\n",
       "      <td>...</td>\n",
       "      <td>...</td>\n",
       "      <td>...</td>\n",
       "      <td>...</td>\n",
       "      <td>...</td>\n",
       "      <td>...</td>\n",
       "      <td>...</td>\n",
       "      <td>...</td>\n",
       "      <td>...</td>\n",
       "    </tr>\n",
       "    <tr>\n",
       "      <th>64</th>\n",
       "      <td>51.77</td>\n",
       "      <td>1</td>\n",
       "      <td>МАФ</td>\n",
       "      <td>6</td>\n",
       "      <td>4.0</td>\n",
       "      <td>6669.0</td>\n",
       "      <td>1.89</td>\n",
       "      <td>146.0</td>\n",
       "      <td>9800.0</td>\n",
       "      <td>1</td>\n",
       "      <td>0</td>\n",
       "      <td>0</td>\n",
       "      <td>0</td>\n",
       "      <td>0</td>\n",
       "      <td>успішний</td>\n",
       "    </tr>\n",
       "    <tr>\n",
       "      <th>65</th>\n",
       "      <td>27.26</td>\n",
       "      <td>1</td>\n",
       "      <td>МАФ</td>\n",
       "      <td>4</td>\n",
       "      <td>3.0</td>\n",
       "      <td>2877.0</td>\n",
       "      <td>1.85</td>\n",
       "      <td>6661.0</td>\n",
       "      <td>12600.0</td>\n",
       "      <td>0</td>\n",
       "      <td>0</td>\n",
       "      <td>0</td>\n",
       "      <td>0</td>\n",
       "      <td>0</td>\n",
       "      <td>успішний</td>\n",
       "    </tr>\n",
       "    <tr>\n",
       "      <th>66</th>\n",
       "      <td>148.91</td>\n",
       "      <td>1</td>\n",
       "      <td>МАФ</td>\n",
       "      <td>2</td>\n",
       "      <td>12.0</td>\n",
       "      <td>2146.0</td>\n",
       "      <td>1.99</td>\n",
       "      <td>9500.0</td>\n",
       "      <td>10570.0</td>\n",
       "      <td>0</td>\n",
       "      <td>1</td>\n",
       "      <td>0</td>\n",
       "      <td>0</td>\n",
       "      <td>0</td>\n",
       "      <td>не успішний</td>\n",
       "    </tr>\n",
       "    <tr>\n",
       "      <th>67</th>\n",
       "      <td>50.93</td>\n",
       "      <td>1</td>\n",
       "      <td>Вбудоване приміщення</td>\n",
       "      <td>3</td>\n",
       "      <td>17.0</td>\n",
       "      <td>413.0</td>\n",
       "      <td>1.73</td>\n",
       "      <td>0.0</td>\n",
       "      <td>12460.0</td>\n",
       "      <td>0</td>\n",
       "      <td>0</td>\n",
       "      <td>0</td>\n",
       "      <td>0</td>\n",
       "      <td>0</td>\n",
       "      <td>не успішний</td>\n",
       "    </tr>\n",
       "    <tr>\n",
       "      <th>68</th>\n",
       "      <td>30.00</td>\n",
       "      <td>1</td>\n",
       "      <td>МАФ</td>\n",
       "      <td>3</td>\n",
       "      <td>12.0</td>\n",
       "      <td>3156.0</td>\n",
       "      <td>2.13</td>\n",
       "      <td>0.0</td>\n",
       "      <td>10430.0</td>\n",
       "      <td>1</td>\n",
       "      <td>0</td>\n",
       "      <td>0</td>\n",
       "      <td>0</td>\n",
       "      <td>0</td>\n",
       "      <td>успішний</td>\n",
       "    </tr>\n",
       "  </tbody>\n",
       "</table>\n",
       "<p>69 rows × 15 columns</p>\n",
       "</div>"
      ],
      "text/plain": [
       "    square  floor                  type  staff  reviews  store_checks  \\\n",
       "0     9.00      1                   МАФ      2      NaN         571.0   \n",
       "1    30.00      1                   МАФ      2      8.0        1197.0   \n",
       "2    15.00      1                   МАФ      2      NaN         402.0   \n",
       "3    20.00      1                   МАФ      2      NaN        1036.0   \n",
       "4    30.00      1  Вбудоване приміщення      2      NaN         513.0   \n",
       "..     ...    ...                   ...    ...      ...           ...   \n",
       "64   51.77      1                   МАФ      6      4.0        6669.0   \n",
       "65   27.26      1                   МАФ      4      3.0        2877.0   \n",
       "66  148.91      1                   МАФ      2     12.0        2146.0   \n",
       "67   50.93      1  Вбудоване приміщення      3     17.0         413.0   \n",
       "68   30.00      1                   МАФ      3     12.0        3156.0   \n",
       "\n",
       "    number_of_units  cars_per_day  average_income_of_customers  road  \\\n",
       "0              1.56       12679.0                      14910.0     0   \n",
       "1              2.03       12800.0                       9030.0     0   \n",
       "2              1.81       77106.0                       9030.0     0   \n",
       "3              2.18           0.0                      13930.0     0   \n",
       "4              1.63           0.0                      14560.0     0   \n",
       "..              ...           ...                          ...   ...   \n",
       "64             1.89         146.0                       9800.0     1   \n",
       "65             1.85        6661.0                      12600.0     0   \n",
       "66             1.99        9500.0                      10570.0     0   \n",
       "67             1.73           0.0                      12460.0     0   \n",
       "68             2.13           0.0                      10430.0     1   \n",
       "\n",
       "    place_for_walk  coating_quality  spontaneous_trade  place_for_picnic  \\\n",
       "0                0                0                  0                 0   \n",
       "1                0                0                  0                 0   \n",
       "2                0                0                  0                 0   \n",
       "3                0                0                  0                 0   \n",
       "4                0                0                  0                 0   \n",
       "..             ...              ...                ...               ...   \n",
       "64               0                0                  0                 0   \n",
       "65               0                0                  0                 0   \n",
       "66               1                0                  0                 0   \n",
       "67               0                0                  0                 0   \n",
       "68               0                0                  0                 0   \n",
       "\n",
       "        success  \n",
       "0   не успішний  \n",
       "1   не успішний  \n",
       "2   не успішний  \n",
       "3   не успішний  \n",
       "4   не успішний  \n",
       "..          ...  \n",
       "64     успішний  \n",
       "65     успішний  \n",
       "66  не успішний  \n",
       "67  не успішний  \n",
       "68     успішний  \n",
       "\n",
       "[69 rows x 15 columns]"
      ]
     },
     "execution_count": 4,
     "metadata": {},
     "output_type": "execute_result"
    }
   ],
   "source": [
    "df"
   ]
  },
  {
   "cell_type": "markdown",
   "metadata": {},
   "source": [
    "Теперь немного проанализируем наши данные. У нас 69 элементов, 15 столбцов. "
   ]
  },
  {
   "cell_type": "code",
   "execution_count": 5,
   "metadata": {},
   "outputs": [
    {
     "name": "stdout",
     "output_type": "stream",
     "text": [
      "<class 'pandas.core.frame.DataFrame'>\n",
      "RangeIndex: 69 entries, 0 to 68\n",
      "Data columns (total 15 columns):\n",
      " #   Column                       Non-Null Count  Dtype  \n",
      "---  ------                       --------------  -----  \n",
      " 0   square                       69 non-null     float64\n",
      " 1   floor                        69 non-null     int64  \n",
      " 2   type                         69 non-null     object \n",
      " 3   staff                        69 non-null     int64  \n",
      " 4   reviews                      39 non-null     float64\n",
      " 5   store_checks                 62 non-null     float64\n",
      " 6   number_of_units              62 non-null     float64\n",
      " 7   cars_per_day                 64 non-null     float64\n",
      " 8   average_income_of_customers  64 non-null     float64\n",
      " 9   road                         69 non-null     int64  \n",
      " 10  place_for_walk               69 non-null     int64  \n",
      " 11  coating_quality              69 non-null     int64  \n",
      " 12  spontaneous_trade            69 non-null     int64  \n",
      " 13  place_for_picnic             69 non-null     int64  \n",
      " 14  success                      69 non-null     object \n",
      "dtypes: float64(6), int64(7), object(2)\n",
      "memory usage: 8.2+ KB\n"
     ]
    }
   ],
   "source": [
    "df.info()"
   ]
  },
  {
   "cell_type": "markdown",
   "metadata": {},
   "source": [
    "## Статистика"
   ]
  },
  {
   "cell_type": "markdown",
   "metadata": {},
   "source": [
    "Посмотрим на статистику наших данных. Она будет крайне полезна при дальнейшей обработке."
   ]
  },
  {
   "cell_type": "code",
   "execution_count": 6,
   "metadata": {},
   "outputs": [
    {
     "data": {
      "text/html": [
       "<div>\n",
       "<style scoped>\n",
       "    .dataframe tbody tr th:only-of-type {\n",
       "        vertical-align: middle;\n",
       "    }\n",
       "\n",
       "    .dataframe tbody tr th {\n",
       "        vertical-align: top;\n",
       "    }\n",
       "\n",
       "    .dataframe thead th {\n",
       "        text-align: right;\n",
       "    }\n",
       "</style>\n",
       "<table border=\"1\" class=\"dataframe\">\n",
       "  <thead>\n",
       "    <tr style=\"text-align: right;\">\n",
       "      <th></th>\n",
       "      <th>square</th>\n",
       "      <th>floor</th>\n",
       "      <th>staff</th>\n",
       "      <th>reviews</th>\n",
       "      <th>store_checks</th>\n",
       "      <th>number_of_units</th>\n",
       "      <th>cars_per_day</th>\n",
       "      <th>average_income_of_customers</th>\n",
       "      <th>road</th>\n",
       "      <th>place_for_walk</th>\n",
       "      <th>coating_quality</th>\n",
       "      <th>spontaneous_trade</th>\n",
       "      <th>place_for_picnic</th>\n",
       "    </tr>\n",
       "  </thead>\n",
       "  <tbody>\n",
       "    <tr>\n",
       "      <th>count</th>\n",
       "      <td>69.000000</td>\n",
       "      <td>69.0</td>\n",
       "      <td>69.000000</td>\n",
       "      <td>39.000000</td>\n",
       "      <td>62.000000</td>\n",
       "      <td>62.000000</td>\n",
       "      <td>64.000000</td>\n",
       "      <td>64.000000</td>\n",
       "      <td>69.000000</td>\n",
       "      <td>69.000000</td>\n",
       "      <td>69.000000</td>\n",
       "      <td>69.000000</td>\n",
       "      <td>69.000000</td>\n",
       "    </tr>\n",
       "    <tr>\n",
       "      <th>mean</th>\n",
       "      <td>47.412725</td>\n",
       "      <td>1.0</td>\n",
       "      <td>3.652174</td>\n",
       "      <td>42.820513</td>\n",
       "      <td>3018.112903</td>\n",
       "      <td>1.896290</td>\n",
       "      <td>25210.718750</td>\n",
       "      <td>11418.593750</td>\n",
       "      <td>0.376812</td>\n",
       "      <td>0.188406</td>\n",
       "      <td>0.115942</td>\n",
       "      <td>0.101449</td>\n",
       "      <td>0.043478</td>\n",
       "    </tr>\n",
       "    <tr>\n",
       "      <th>std</th>\n",
       "      <td>37.862989</td>\n",
       "      <td>0.0</td>\n",
       "      <td>1.607209</td>\n",
       "      <td>81.975565</td>\n",
       "      <td>2009.425047</td>\n",
       "      <td>0.218364</td>\n",
       "      <td>47580.292784</td>\n",
       "      <td>2528.015011</td>\n",
       "      <td>0.488137</td>\n",
       "      <td>0.393901</td>\n",
       "      <td>0.322501</td>\n",
       "      <td>0.304135</td>\n",
       "      <td>0.205425</td>\n",
       "    </tr>\n",
       "    <tr>\n",
       "      <th>min</th>\n",
       "      <td>4.000000</td>\n",
       "      <td>1.0</td>\n",
       "      <td>2.000000</td>\n",
       "      <td>1.000000</td>\n",
       "      <td>369.000000</td>\n",
       "      <td>1.270000</td>\n",
       "      <td>0.000000</td>\n",
       "      <td>0.000000</td>\n",
       "      <td>0.000000</td>\n",
       "      <td>0.000000</td>\n",
       "      <td>0.000000</td>\n",
       "      <td>0.000000</td>\n",
       "      <td>0.000000</td>\n",
       "    </tr>\n",
       "    <tr>\n",
       "      <th>25%</th>\n",
       "      <td>26.720000</td>\n",
       "      <td>1.0</td>\n",
       "      <td>2.000000</td>\n",
       "      <td>5.000000</td>\n",
       "      <td>1475.250000</td>\n",
       "      <td>1.770000</td>\n",
       "      <td>0.000000</td>\n",
       "      <td>10412.500000</td>\n",
       "      <td>0.000000</td>\n",
       "      <td>0.000000</td>\n",
       "      <td>0.000000</td>\n",
       "      <td>0.000000</td>\n",
       "      <td>0.000000</td>\n",
       "    </tr>\n",
       "    <tr>\n",
       "      <th>50%</th>\n",
       "      <td>32.300000</td>\n",
       "      <td>1.0</td>\n",
       "      <td>4.000000</td>\n",
       "      <td>12.000000</td>\n",
       "      <td>2467.000000</td>\n",
       "      <td>1.890000</td>\n",
       "      <td>6232.500000</td>\n",
       "      <td>11515.000000</td>\n",
       "      <td>0.000000</td>\n",
       "      <td>0.000000</td>\n",
       "      <td>0.000000</td>\n",
       "      <td>0.000000</td>\n",
       "      <td>0.000000</td>\n",
       "    </tr>\n",
       "    <tr>\n",
       "      <th>75%</th>\n",
       "      <td>56.240000</td>\n",
       "      <td>1.0</td>\n",
       "      <td>4.000000</td>\n",
       "      <td>33.000000</td>\n",
       "      <td>4103.250000</td>\n",
       "      <td>2.017500</td>\n",
       "      <td>18149.750000</td>\n",
       "      <td>12915.000000</td>\n",
       "      <td>1.000000</td>\n",
       "      <td>0.000000</td>\n",
       "      <td>0.000000</td>\n",
       "      <td>0.000000</td>\n",
       "      <td>0.000000</td>\n",
       "    </tr>\n",
       "    <tr>\n",
       "      <th>max</th>\n",
       "      <td>232.300000</td>\n",
       "      <td>1.0</td>\n",
       "      <td>8.000000</td>\n",
       "      <td>367.000000</td>\n",
       "      <td>7852.000000</td>\n",
       "      <td>2.540000</td>\n",
       "      <td>181955.000000</td>\n",
       "      <td>15470.000000</td>\n",
       "      <td>1.000000</td>\n",
       "      <td>1.000000</td>\n",
       "      <td>1.000000</td>\n",
       "      <td>1.000000</td>\n",
       "      <td>1.000000</td>\n",
       "    </tr>\n",
       "  </tbody>\n",
       "</table>\n",
       "</div>"
      ],
      "text/plain": [
       "           square  floor      staff     reviews  store_checks  \\\n",
       "count   69.000000   69.0  69.000000   39.000000     62.000000   \n",
       "mean    47.412725    1.0   3.652174   42.820513   3018.112903   \n",
       "std     37.862989    0.0   1.607209   81.975565   2009.425047   \n",
       "min      4.000000    1.0   2.000000    1.000000    369.000000   \n",
       "25%     26.720000    1.0   2.000000    5.000000   1475.250000   \n",
       "50%     32.300000    1.0   4.000000   12.000000   2467.000000   \n",
       "75%     56.240000    1.0   4.000000   33.000000   4103.250000   \n",
       "max    232.300000    1.0   8.000000  367.000000   7852.000000   \n",
       "\n",
       "       number_of_units   cars_per_day  average_income_of_customers       road  \\\n",
       "count        62.000000      64.000000                    64.000000  69.000000   \n",
       "mean          1.896290   25210.718750                 11418.593750   0.376812   \n",
       "std           0.218364   47580.292784                  2528.015011   0.488137   \n",
       "min           1.270000       0.000000                     0.000000   0.000000   \n",
       "25%           1.770000       0.000000                 10412.500000   0.000000   \n",
       "50%           1.890000    6232.500000                 11515.000000   0.000000   \n",
       "75%           2.017500   18149.750000                 12915.000000   1.000000   \n",
       "max           2.540000  181955.000000                 15470.000000   1.000000   \n",
       "\n",
       "       place_for_walk  coating_quality  spontaneous_trade  place_for_picnic  \n",
       "count       69.000000        69.000000          69.000000         69.000000  \n",
       "mean         0.188406         0.115942           0.101449          0.043478  \n",
       "std          0.393901         0.322501           0.304135          0.205425  \n",
       "min          0.000000         0.000000           0.000000          0.000000  \n",
       "25%          0.000000         0.000000           0.000000          0.000000  \n",
       "50%          0.000000         0.000000           0.000000          0.000000  \n",
       "75%          0.000000         0.000000           0.000000          0.000000  \n",
       "max          1.000000         1.000000           1.000000          1.000000  "
      ]
     },
     "execution_count": 6,
     "metadata": {},
     "output_type": "execute_result"
    }
   ],
   "source": [
    "df.describe()"
   ]
  },
  {
   "cell_type": "markdown",
   "metadata": {},
   "source": [
    "Удалим переменную этаж, так как она не вариативна."
   ]
  },
  {
   "cell_type": "code",
   "execution_count": 7,
   "metadata": {},
   "outputs": [
    {
     "data": {
      "text/html": [
       "<div>\n",
       "<style scoped>\n",
       "    .dataframe tbody tr th:only-of-type {\n",
       "        vertical-align: middle;\n",
       "    }\n",
       "\n",
       "    .dataframe tbody tr th {\n",
       "        vertical-align: top;\n",
       "    }\n",
       "\n",
       "    .dataframe thead th {\n",
       "        text-align: right;\n",
       "    }\n",
       "</style>\n",
       "<table border=\"1\" class=\"dataframe\">\n",
       "  <thead>\n",
       "    <tr style=\"text-align: right;\">\n",
       "      <th></th>\n",
       "      <th>square</th>\n",
       "      <th>type</th>\n",
       "      <th>staff</th>\n",
       "      <th>reviews</th>\n",
       "      <th>store_checks</th>\n",
       "      <th>number_of_units</th>\n",
       "      <th>cars_per_day</th>\n",
       "      <th>average_income_of_customers</th>\n",
       "      <th>road</th>\n",
       "      <th>place_for_walk</th>\n",
       "      <th>coating_quality</th>\n",
       "      <th>spontaneous_trade</th>\n",
       "      <th>place_for_picnic</th>\n",
       "      <th>success</th>\n",
       "    </tr>\n",
       "  </thead>\n",
       "  <tbody>\n",
       "    <tr>\n",
       "      <th>0</th>\n",
       "      <td>9.0</td>\n",
       "      <td>МАФ</td>\n",
       "      <td>2</td>\n",
       "      <td>NaN</td>\n",
       "      <td>571.0</td>\n",
       "      <td>1.56</td>\n",
       "      <td>12679.0</td>\n",
       "      <td>14910.0</td>\n",
       "      <td>0</td>\n",
       "      <td>0</td>\n",
       "      <td>0</td>\n",
       "      <td>0</td>\n",
       "      <td>0</td>\n",
       "      <td>не успішний</td>\n",
       "    </tr>\n",
       "    <tr>\n",
       "      <th>1</th>\n",
       "      <td>30.0</td>\n",
       "      <td>МАФ</td>\n",
       "      <td>2</td>\n",
       "      <td>8.0</td>\n",
       "      <td>1197.0</td>\n",
       "      <td>2.03</td>\n",
       "      <td>12800.0</td>\n",
       "      <td>9030.0</td>\n",
       "      <td>0</td>\n",
       "      <td>0</td>\n",
       "      <td>0</td>\n",
       "      <td>0</td>\n",
       "      <td>0</td>\n",
       "      <td>не успішний</td>\n",
       "    </tr>\n",
       "    <tr>\n",
       "      <th>2</th>\n",
       "      <td>15.0</td>\n",
       "      <td>МАФ</td>\n",
       "      <td>2</td>\n",
       "      <td>NaN</td>\n",
       "      <td>402.0</td>\n",
       "      <td>1.81</td>\n",
       "      <td>77106.0</td>\n",
       "      <td>9030.0</td>\n",
       "      <td>0</td>\n",
       "      <td>0</td>\n",
       "      <td>0</td>\n",
       "      <td>0</td>\n",
       "      <td>0</td>\n",
       "      <td>не успішний</td>\n",
       "    </tr>\n",
       "    <tr>\n",
       "      <th>3</th>\n",
       "      <td>20.0</td>\n",
       "      <td>МАФ</td>\n",
       "      <td>2</td>\n",
       "      <td>NaN</td>\n",
       "      <td>1036.0</td>\n",
       "      <td>2.18</td>\n",
       "      <td>0.0</td>\n",
       "      <td>13930.0</td>\n",
       "      <td>0</td>\n",
       "      <td>0</td>\n",
       "      <td>0</td>\n",
       "      <td>0</td>\n",
       "      <td>0</td>\n",
       "      <td>не успішний</td>\n",
       "    </tr>\n",
       "    <tr>\n",
       "      <th>4</th>\n",
       "      <td>30.0</td>\n",
       "      <td>Вбудоване приміщення</td>\n",
       "      <td>2</td>\n",
       "      <td>NaN</td>\n",
       "      <td>513.0</td>\n",
       "      <td>1.63</td>\n",
       "      <td>0.0</td>\n",
       "      <td>14560.0</td>\n",
       "      <td>0</td>\n",
       "      <td>0</td>\n",
       "      <td>0</td>\n",
       "      <td>0</td>\n",
       "      <td>0</td>\n",
       "      <td>не успішний</td>\n",
       "    </tr>\n",
       "  </tbody>\n",
       "</table>\n",
       "</div>"
      ],
      "text/plain": [
       "   square                  type  staff  reviews  store_checks  \\\n",
       "0     9.0                   МАФ      2      NaN         571.0   \n",
       "1    30.0                   МАФ      2      8.0        1197.0   \n",
       "2    15.0                   МАФ      2      NaN         402.0   \n",
       "3    20.0                   МАФ      2      NaN        1036.0   \n",
       "4    30.0  Вбудоване приміщення      2      NaN         513.0   \n",
       "\n",
       "   number_of_units  cars_per_day  average_income_of_customers  road  \\\n",
       "0             1.56       12679.0                      14910.0     0   \n",
       "1             2.03       12800.0                       9030.0     0   \n",
       "2             1.81       77106.0                       9030.0     0   \n",
       "3             2.18           0.0                      13930.0     0   \n",
       "4             1.63           0.0                      14560.0     0   \n",
       "\n",
       "   place_for_walk  coating_quality  spontaneous_trade  place_for_picnic  \\\n",
       "0               0                0                  0                 0   \n",
       "1               0                0                  0                 0   \n",
       "2               0                0                  0                 0   \n",
       "3               0                0                  0                 0   \n",
       "4               0                0                  0                 0   \n",
       "\n",
       "       success  \n",
       "0  не успішний  \n",
       "1  не успішний  \n",
       "2  не успішний  \n",
       "3  не успішний  \n",
       "4  не успішний  "
      ]
     },
     "execution_count": 7,
     "metadata": {},
     "output_type": "execute_result"
    }
   ],
   "source": [
    "df = df.drop(['floor'], axis='columns', inplace=False)\n",
    "df.head(5)"
   ]
  },
  {
   "cell_type": "markdown",
   "metadata": {},
   "source": [
    "## Пропуски"
   ]
  },
  {
   "cell_type": "markdown",
   "metadata": {},
   "source": [
    "Проверим данные на наличие пропусков."
   ]
  },
  {
   "cell_type": "code",
   "execution_count": 8,
   "metadata": {},
   "outputs": [
    {
     "data": {
      "text/html": [
       "<div>\n",
       "<style scoped>\n",
       "    .dataframe tbody tr th:only-of-type {\n",
       "        vertical-align: middle;\n",
       "    }\n",
       "\n",
       "    .dataframe tbody tr th {\n",
       "        vertical-align: top;\n",
       "    }\n",
       "\n",
       "    .dataframe thead th {\n",
       "        text-align: right;\n",
       "    }\n",
       "</style>\n",
       "<table border=\"1\" class=\"dataframe\">\n",
       "  <thead>\n",
       "    <tr style=\"text-align: right;\">\n",
       "      <th></th>\n",
       "      <th>Total</th>\n",
       "      <th>Percent</th>\n",
       "    </tr>\n",
       "  </thead>\n",
       "  <tbody>\n",
       "    <tr>\n",
       "      <th>reviews</th>\n",
       "      <td>30</td>\n",
       "      <td>0.434783</td>\n",
       "    </tr>\n",
       "    <tr>\n",
       "      <th>number_of_units</th>\n",
       "      <td>7</td>\n",
       "      <td>0.101449</td>\n",
       "    </tr>\n",
       "    <tr>\n",
       "      <th>store_checks</th>\n",
       "      <td>7</td>\n",
       "      <td>0.101449</td>\n",
       "    </tr>\n",
       "    <tr>\n",
       "      <th>average_income_of_customers</th>\n",
       "      <td>5</td>\n",
       "      <td>0.072464</td>\n",
       "    </tr>\n",
       "    <tr>\n",
       "      <th>cars_per_day</th>\n",
       "      <td>5</td>\n",
       "      <td>0.072464</td>\n",
       "    </tr>\n",
       "    <tr>\n",
       "      <th>success</th>\n",
       "      <td>0</td>\n",
       "      <td>0.000000</td>\n",
       "    </tr>\n",
       "    <tr>\n",
       "      <th>place_for_picnic</th>\n",
       "      <td>0</td>\n",
       "      <td>0.000000</td>\n",
       "    </tr>\n",
       "    <tr>\n",
       "      <th>spontaneous_trade</th>\n",
       "      <td>0</td>\n",
       "      <td>0.000000</td>\n",
       "    </tr>\n",
       "    <tr>\n",
       "      <th>coating_quality</th>\n",
       "      <td>0</td>\n",
       "      <td>0.000000</td>\n",
       "    </tr>\n",
       "    <tr>\n",
       "      <th>place_for_walk</th>\n",
       "      <td>0</td>\n",
       "      <td>0.000000</td>\n",
       "    </tr>\n",
       "    <tr>\n",
       "      <th>road</th>\n",
       "      <td>0</td>\n",
       "      <td>0.000000</td>\n",
       "    </tr>\n",
       "    <tr>\n",
       "      <th>staff</th>\n",
       "      <td>0</td>\n",
       "      <td>0.000000</td>\n",
       "    </tr>\n",
       "    <tr>\n",
       "      <th>type</th>\n",
       "      <td>0</td>\n",
       "      <td>0.000000</td>\n",
       "    </tr>\n",
       "    <tr>\n",
       "      <th>square</th>\n",
       "      <td>0</td>\n",
       "      <td>0.000000</td>\n",
       "    </tr>\n",
       "  </tbody>\n",
       "</table>\n",
       "</div>"
      ],
      "text/plain": [
       "                             Total   Percent\n",
       "reviews                         30  0.434783\n",
       "number_of_units                  7  0.101449\n",
       "store_checks                     7  0.101449\n",
       "average_income_of_customers      5  0.072464\n",
       "cars_per_day                     5  0.072464\n",
       "success                          0  0.000000\n",
       "place_for_picnic                 0  0.000000\n",
       "spontaneous_trade                0  0.000000\n",
       "coating_quality                  0  0.000000\n",
       "place_for_walk                   0  0.000000\n",
       "road                             0  0.000000\n",
       "staff                            0  0.000000\n",
       "type                             0  0.000000\n",
       "square                           0  0.000000"
      ]
     },
     "execution_count": 8,
     "metadata": {},
     "output_type": "execute_result"
    }
   ],
   "source": [
    "total = df.isnull().sum().sort_values(ascending=False)\n",
    "percent = (df.isnull().sum()/df.isnull().count()).sort_values(ascending=False)\n",
    "missing_data = pd.concat([total, percent], axis=1, keys=['Total', 'Percent'])\n",
    "missing_data"
   ]
  },
  {
   "cell_type": "markdown",
   "metadata": {},
   "source": [
    "Обнаружено аж 30 пропусков по отзывам в гугле, 7 по ср количеству единиц в чеке, 7 по количеству чеков, 5 по среднему доходу покупателей и 5 по ср количеству машин в день. Они все количественные, поэтому заполним их средним значением по соответствующим категориям. Для этого пропишем функцию fill_missing_num."
   ]
  },
  {
   "cell_type": "code",
   "execution_count": 9,
   "metadata": {},
   "outputs": [],
   "source": [
    "def fill_missing_num(x):\n",
    "    num_var = list(x._get_numeric_data().columns)\n",
    "    for col_names in num_var:        \n",
    "        prep_med = SimpleImputer(missing_values=np.nan, strategy='mean')\n",
    "        prep_med.fit(x[num_var])\n",
    "        x[num_var] = prep_med.transform(x[num_var])\n",
    "    return(x)"
   ]
  },
  {
   "cell_type": "markdown",
   "metadata": {},
   "source": [
    "Применяем прописанную функцию для заполнения пропусков."
   ]
  },
  {
   "cell_type": "code",
   "execution_count": 10,
   "metadata": {},
   "outputs": [],
   "source": [
    "from sklearn.impute import SimpleImputer\n",
    "df = fill_missing_num(df)"
   ]
  },
  {
   "cell_type": "markdown",
   "metadata": {},
   "source": [
    "Проверим ещё раз на пропуски. Видим, что теперь их нет."
   ]
  },
  {
   "cell_type": "code",
   "execution_count": 11,
   "metadata": {},
   "outputs": [
    {
     "data": {
      "text/html": [
       "<div>\n",
       "<style scoped>\n",
       "    .dataframe tbody tr th:only-of-type {\n",
       "        vertical-align: middle;\n",
       "    }\n",
       "\n",
       "    .dataframe tbody tr th {\n",
       "        vertical-align: top;\n",
       "    }\n",
       "\n",
       "    .dataframe thead th {\n",
       "        text-align: right;\n",
       "    }\n",
       "</style>\n",
       "<table border=\"1\" class=\"dataframe\">\n",
       "  <thead>\n",
       "    <tr style=\"text-align: right;\">\n",
       "      <th></th>\n",
       "      <th>Total</th>\n",
       "      <th>Percent</th>\n",
       "    </tr>\n",
       "  </thead>\n",
       "  <tbody>\n",
       "    <tr>\n",
       "      <th>success</th>\n",
       "      <td>0</td>\n",
       "      <td>0.0</td>\n",
       "    </tr>\n",
       "    <tr>\n",
       "      <th>place_for_picnic</th>\n",
       "      <td>0</td>\n",
       "      <td>0.0</td>\n",
       "    </tr>\n",
       "    <tr>\n",
       "      <th>spontaneous_trade</th>\n",
       "      <td>0</td>\n",
       "      <td>0.0</td>\n",
       "    </tr>\n",
       "    <tr>\n",
       "      <th>coating_quality</th>\n",
       "      <td>0</td>\n",
       "      <td>0.0</td>\n",
       "    </tr>\n",
       "    <tr>\n",
       "      <th>place_for_walk</th>\n",
       "      <td>0</td>\n",
       "      <td>0.0</td>\n",
       "    </tr>\n",
       "    <tr>\n",
       "      <th>road</th>\n",
       "      <td>0</td>\n",
       "      <td>0.0</td>\n",
       "    </tr>\n",
       "    <tr>\n",
       "      <th>average_income_of_customers</th>\n",
       "      <td>0</td>\n",
       "      <td>0.0</td>\n",
       "    </tr>\n",
       "    <tr>\n",
       "      <th>cars_per_day</th>\n",
       "      <td>0</td>\n",
       "      <td>0.0</td>\n",
       "    </tr>\n",
       "    <tr>\n",
       "      <th>number_of_units</th>\n",
       "      <td>0</td>\n",
       "      <td>0.0</td>\n",
       "    </tr>\n",
       "    <tr>\n",
       "      <th>store_checks</th>\n",
       "      <td>0</td>\n",
       "      <td>0.0</td>\n",
       "    </tr>\n",
       "    <tr>\n",
       "      <th>reviews</th>\n",
       "      <td>0</td>\n",
       "      <td>0.0</td>\n",
       "    </tr>\n",
       "    <tr>\n",
       "      <th>staff</th>\n",
       "      <td>0</td>\n",
       "      <td>0.0</td>\n",
       "    </tr>\n",
       "    <tr>\n",
       "      <th>type</th>\n",
       "      <td>0</td>\n",
       "      <td>0.0</td>\n",
       "    </tr>\n",
       "    <tr>\n",
       "      <th>square</th>\n",
       "      <td>0</td>\n",
       "      <td>0.0</td>\n",
       "    </tr>\n",
       "  </tbody>\n",
       "</table>\n",
       "</div>"
      ],
      "text/plain": [
       "                             Total  Percent\n",
       "success                          0      0.0\n",
       "place_for_picnic                 0      0.0\n",
       "spontaneous_trade                0      0.0\n",
       "coating_quality                  0      0.0\n",
       "place_for_walk                   0      0.0\n",
       "road                             0      0.0\n",
       "average_income_of_customers      0      0.0\n",
       "cars_per_day                     0      0.0\n",
       "number_of_units                  0      0.0\n",
       "store_checks                     0      0.0\n",
       "reviews                          0      0.0\n",
       "staff                            0      0.0\n",
       "type                             0      0.0\n",
       "square                           0      0.0"
      ]
     },
     "execution_count": 11,
     "metadata": {},
     "output_type": "execute_result"
    }
   ],
   "source": [
    "total = df.isnull().sum().sort_values(ascending=False)\n",
    "percent = (df.isnull().sum()/df.isnull().count()).sort_values(ascending=False)\n",
    "missing_data = pd.concat([total, percent], axis=1, keys=['Total', 'Percent'])\n",
    "missing_data"
   ]
  },
  {
   "cell_type": "markdown",
   "metadata": {},
   "source": [
    "## Визуализация"
   ]
  },
  {
   "cell_type": "markdown",
   "metadata": {},
   "source": [
    "Визуализируем данные, где имеем количественные небинарные переменные."
   ]
  },
  {
   "cell_type": "code",
   "execution_count": 12,
   "metadata": {},
   "outputs": [
    {
     "data": {
      "text/plain": [
       "<AxesSubplot:ylabel='Frequency'>"
      ]
     },
     "execution_count": 12,
     "metadata": {},
     "output_type": "execute_result"
    },
    {
     "data": {
      "image/png": "[encoded data removed]",
      "text/plain": [
       "<Figure size 432x288 with 1 Axes>"
      ]
     },
     "metadata": {
      "needs_background": "light"
     },
     "output_type": "display_data"
    }
   ],
   "source": [
    "df['staff'].plot(kind = 'hist')"
   ]
  },
  {
   "cell_type": "code",
   "execution_count": 13,
   "metadata": {},
   "outputs": [
    {
     "data": {
      "text/plain": [
       "<AxesSubplot:ylabel='Frequency'>"
      ]
     },
     "execution_count": 13,
     "metadata": {},
     "output_type": "execute_result"
    },
    {
     "data": {
      "image/png": "[encoded data removed]",
      "text/plain": [
       "<Figure size 432x288 with 1 Axes>"
      ]
     },
     "metadata": {
      "needs_background": "light"
     },
     "output_type": "display_data"
    }
   ],
   "source": [
    "df['reviews'].plot(kind = 'hist')"
   ]
  },
  {
   "cell_type": "code",
   "execution_count": 14,
   "metadata": {},
   "outputs": [
    {
     "data": {
      "text/plain": [
       "<AxesSubplot:ylabel='Frequency'>"
      ]
     },
     "execution_count": 14,
     "metadata": {},
     "output_type": "execute_result"
    },
    {
     "data": {
      "image/png": "[encoded data removed]",
      "text/plain": [
       "<Figure size 432x288 with 1 Axes>"
      ]
     },
     "metadata": {
      "needs_background": "light"
     },
     "output_type": "display_data"
    }
   ],
   "source": [
    "df['store_checks'].plot(kind = 'hist')"
   ]
  },
  {
   "cell_type": "code",
   "execution_count": 15,
   "metadata": {},
   "outputs": [
    {
     "data": {
      "text/plain": [
       "<AxesSubplot:ylabel='Frequency'>"
      ]
     },
     "execution_count": 15,
     "metadata": {},
     "output_type": "execute_result"
    },
    {
     "data": {
      "image/png": "[encoded data removed]",
      "text/plain": [
       "<Figure size 432x288 with 1 Axes>"
      ]
     },
     "metadata": {
      "needs_background": "light"
     },
     "output_type": "display_data"
    }
   ],
   "source": [
    "df['number_of_units'].plot(kind = 'hist')"
   ]
  },
  {
   "cell_type": "code",
   "execution_count": 16,
   "metadata": {},
   "outputs": [
    {
     "data": {
      "text/plain": [
       "<AxesSubplot:ylabel='Frequency'>"
      ]
     },
     "execution_count": 16,
     "metadata": {},
     "output_type": "execute_result"
    },
    {
     "data": {
      "image/png": "[encoded data removed]",
      "text/plain": [
       "<Figure size 432x288 with 1 Axes>"
      ]
     },
     "metadata": {
      "needs_background": "light"
     },
     "output_type": "display_data"
    }
   ],
   "source": [
    "df['cars_per_day'].plot(kind = 'hist')"
   ]
  },
  {
   "cell_type": "code",
   "execution_count": 17,
   "metadata": {},
   "outputs": [
    {
     "data": {
      "text/plain": [
       "<AxesSubplot:ylabel='Frequency'>"
      ]
     },
     "execution_count": 17,
     "metadata": {},
     "output_type": "execute_result"
    },
    {
     "data": {
      "image/png": "[encoded data removed]",
      "text/plain": [
       "<Figure size 432x288 with 1 Axes>"
      ]
     },
     "metadata": {
      "needs_background": "light"
     },
     "output_type": "display_data"
    }
   ],
   "source": [
    "df['average_income_of_customers'].plot(kind = 'hist')"
   ]
  },
  {
   "cell_type": "code",
   "execution_count": 18,
   "metadata": {},
   "outputs": [
    {
     "data": {
      "text/plain": [
       "<AxesSubplot:ylabel='Frequency'>"
      ]
     },
     "execution_count": 18,
     "metadata": {},
     "output_type": "execute_result"
    },
    {
     "data": {
      "image/png": "[encoded data removed]",
      "text/plain": [
       "<Figure size 432x288 with 1 Axes>"
      ]
     },
     "metadata": {
      "needs_background": "light"
     },
     "output_type": "display_data"
    }
   ],
   "source": [
    "df['square'].plot(kind = 'hist')"
   ]
  },
  {
   "cell_type": "markdown",
   "metadata": {},
   "source": [
    "## Выбросы"
   ]
  },
  {
   "cell_type": "markdown",
   "metadata": {},
   "source": [
    "Совсем нетипичные данные будут только мешать, поэтому удалим объекты, где по визуализации видим, что они нетипичные. Например, средний доход и площадь. Остальное я рекомендую не трогать, так как это удалит значительное количетсво данных, а у нас их и так немного."
   ]
  },
  {
   "cell_type": "code",
   "execution_count": 19,
   "metadata": {},
   "outputs": [
    {
     "data": {
      "text/html": [
       "<div>\n",
       "<style scoped>\n",
       "    .dataframe tbody tr th:only-of-type {\n",
       "        vertical-align: middle;\n",
       "    }\n",
       "\n",
       "    .dataframe tbody tr th {\n",
       "        vertical-align: top;\n",
       "    }\n",
       "\n",
       "    .dataframe thead th {\n",
       "        text-align: right;\n",
       "    }\n",
       "</style>\n",
       "<table border=\"1\" class=\"dataframe\">\n",
       "  <thead>\n",
       "    <tr style=\"text-align: right;\">\n",
       "      <th></th>\n",
       "      <th>square</th>\n",
       "      <th>staff</th>\n",
       "      <th>reviews</th>\n",
       "      <th>store_checks</th>\n",
       "      <th>number_of_units</th>\n",
       "      <th>cars_per_day</th>\n",
       "      <th>average_income_of_customers</th>\n",
       "      <th>road</th>\n",
       "      <th>place_for_walk</th>\n",
       "      <th>coating_quality</th>\n",
       "      <th>spontaneous_trade</th>\n",
       "      <th>place_for_picnic</th>\n",
       "    </tr>\n",
       "  </thead>\n",
       "  <tbody>\n",
       "    <tr>\n",
       "      <th>count</th>\n",
       "      <td>64.000000</td>\n",
       "      <td>64.000000</td>\n",
       "      <td>64.000000</td>\n",
       "      <td>64.000000</td>\n",
       "      <td>64.000000</td>\n",
       "      <td>64.000000</td>\n",
       "      <td>64.000000</td>\n",
       "      <td>64.000000</td>\n",
       "      <td>64.000000</td>\n",
       "      <td>64.000000</td>\n",
       "      <td>64.000000</td>\n",
       "      <td>64.000000</td>\n",
       "    </tr>\n",
       "    <tr>\n",
       "      <th>mean</th>\n",
       "      <td>40.143875</td>\n",
       "      <td>3.562500</td>\n",
       "      <td>38.840545</td>\n",
       "      <td>2958.106099</td>\n",
       "      <td>1.880376</td>\n",
       "      <td>22135.899902</td>\n",
       "      <td>11754.108887</td>\n",
       "      <td>0.390625</td>\n",
       "      <td>0.187500</td>\n",
       "      <td>0.109375</td>\n",
       "      <td>0.109375</td>\n",
       "      <td>0.046875</td>\n",
       "    </tr>\n",
       "    <tr>\n",
       "      <th>std</th>\n",
       "      <td>22.021049</td>\n",
       "      <td>1.531417</td>\n",
       "      <td>48.359872</td>\n",
       "      <td>1924.665241</td>\n",
       "      <td>0.193938</td>\n",
       "      <td>41453.224379</td>\n",
       "      <td>1602.263627</td>\n",
       "      <td>0.491747</td>\n",
       "      <td>0.393398</td>\n",
       "      <td>0.314576</td>\n",
       "      <td>0.314576</td>\n",
       "      <td>0.213042</td>\n",
       "    </tr>\n",
       "    <tr>\n",
       "      <th>min</th>\n",
       "      <td>4.000000</td>\n",
       "      <td>2.000000</td>\n",
       "      <td>1.000000</td>\n",
       "      <td>369.000000</td>\n",
       "      <td>1.270000</td>\n",
       "      <td>0.000000</td>\n",
       "      <td>9030.000000</td>\n",
       "      <td>0.000000</td>\n",
       "      <td>0.000000</td>\n",
       "      <td>0.000000</td>\n",
       "      <td>0.000000</td>\n",
       "      <td>0.000000</td>\n",
       "    </tr>\n",
       "    <tr>\n",
       "      <th>25%</th>\n",
       "      <td>25.442500</td>\n",
       "      <td>2.000000</td>\n",
       "      <td>10.500000</td>\n",
       "      <td>1487.750000</td>\n",
       "      <td>1.777500</td>\n",
       "      <td>0.000000</td>\n",
       "      <td>10570.000000</td>\n",
       "      <td>0.000000</td>\n",
       "      <td>0.000000</td>\n",
       "      <td>0.000000</td>\n",
       "      <td>0.000000</td>\n",
       "      <td>0.000000</td>\n",
       "    </tr>\n",
       "    <tr>\n",
       "      <th>50%</th>\n",
       "      <td>30.000000</td>\n",
       "      <td>4.000000</td>\n",
       "      <td>42.820513</td>\n",
       "      <td>2548.500000</td>\n",
       "      <td>1.896290</td>\n",
       "      <td>7122.500000</td>\n",
       "      <td>11418.593750</td>\n",
       "      <td>0.000000</td>\n",
       "      <td>0.000000</td>\n",
       "      <td>0.000000</td>\n",
       "      <td>0.000000</td>\n",
       "      <td>0.000000</td>\n",
       "    </tr>\n",
       "    <tr>\n",
       "      <th>75%</th>\n",
       "      <td>52.255000</td>\n",
       "      <td>4.000000</td>\n",
       "      <td>42.820513</td>\n",
       "      <td>3786.250000</td>\n",
       "      <td>1.975000</td>\n",
       "      <td>22962.000000</td>\n",
       "      <td>12915.000000</td>\n",
       "      <td>1.000000</td>\n",
       "      <td>0.000000</td>\n",
       "      <td>0.000000</td>\n",
       "      <td>0.000000</td>\n",
       "      <td>0.000000</td>\n",
       "    </tr>\n",
       "    <tr>\n",
       "      <th>max</th>\n",
       "      <td>120.000000</td>\n",
       "      <td>8.000000</td>\n",
       "      <td>325.000000</td>\n",
       "      <td>7852.000000</td>\n",
       "      <td>2.290000</td>\n",
       "      <td>181955.000000</td>\n",
       "      <td>15470.000000</td>\n",
       "      <td>1.000000</td>\n",
       "      <td>1.000000</td>\n",
       "      <td>1.000000</td>\n",
       "      <td>1.000000</td>\n",
       "      <td>1.000000</td>\n",
       "    </tr>\n",
       "  </tbody>\n",
       "</table>\n",
       "</div>"
      ],
      "text/plain": [
       "           square      staff     reviews  store_checks  number_of_units  \\\n",
       "count   64.000000  64.000000   64.000000     64.000000        64.000000   \n",
       "mean    40.143875   3.562500   38.840545   2958.106099         1.880376   \n",
       "std     22.021049   1.531417   48.359872   1924.665241         0.193938   \n",
       "min      4.000000   2.000000    1.000000    369.000000         1.270000   \n",
       "25%     25.442500   2.000000   10.500000   1487.750000         1.777500   \n",
       "50%     30.000000   4.000000   42.820513   2548.500000         1.896290   \n",
       "75%     52.255000   4.000000   42.820513   3786.250000         1.975000   \n",
       "max    120.000000   8.000000  325.000000   7852.000000         2.290000   \n",
       "\n",
       "        cars_per_day  average_income_of_customers       road  place_for_walk  \\\n",
       "count      64.000000                    64.000000  64.000000       64.000000   \n",
       "mean    22135.899902                 11754.108887   0.390625        0.187500   \n",
       "std     41453.224379                  1602.263627   0.491747        0.393398   \n",
       "min         0.000000                  9030.000000   0.000000        0.000000   \n",
       "25%         0.000000                 10570.000000   0.000000        0.000000   \n",
       "50%      7122.500000                 11418.593750   0.000000        0.000000   \n",
       "75%     22962.000000                 12915.000000   1.000000        0.000000   \n",
       "max    181955.000000                 15470.000000   1.000000        1.000000   \n",
       "\n",
       "       coating_quality  spontaneous_trade  place_for_picnic  \n",
       "count        64.000000          64.000000         64.000000  \n",
       "mean          0.109375           0.109375          0.046875  \n",
       "std           0.314576           0.314576          0.213042  \n",
       "min           0.000000           0.000000          0.000000  \n",
       "25%           0.000000           0.000000          0.000000  \n",
       "50%           0.000000           0.000000          0.000000  \n",
       "75%           0.000000           0.000000          0.000000  \n",
       "max           1.000000           1.000000          1.000000  "
      ]
     },
     "execution_count": 19,
     "metadata": {},
     "output_type": "execute_result"
    }
   ],
   "source": [
    "df = df.drop(df[df.average_income_of_customers < 3800].index)\n",
    "df = df.drop(df[df.square > 135].index)\n",
    "df.describe()"
   ]
  },
  {
   "cell_type": "code",
   "execution_count": 20,
   "metadata": {},
   "outputs": [
    {
     "data": {
      "text/plain": [
       "<AxesSubplot:ylabel='Frequency'>"
      ]
     },
     "execution_count": 20,
     "metadata": {},
     "output_type": "execute_result"
    },
    {
     "data": {
      "image/png": "[encoded data removed]",
      "text/plain": [
       "<Figure size 432x288 with 1 Axes>"
      ]
     },
     "metadata": {
      "needs_background": "light"
     },
     "output_type": "display_data"
    }
   ],
   "source": [
    "df['average_income_of_customers'].plot(kind = 'hist')"
   ]
  },
  {
   "cell_type": "code",
   "execution_count": 21,
   "metadata": {},
   "outputs": [
    {
     "data": {
      "text/plain": [
       "<AxesSubplot:ylabel='Frequency'>"
      ]
     },
     "execution_count": 21,
     "metadata": {},
     "output_type": "execute_result"
    },
    {
     "data": {
      "image/png": "[encoded data removed]",
      "text/plain": [
       "<Figure size 432x288 with 1 Axes>"
      ]
     },
     "metadata": {
      "needs_background": "light"
     },
     "output_type": "display_data"
    }
   ],
   "source": [
    "df['square'].plot(kind = 'hist')"
   ]
  },
  {
   "cell_type": "markdown",
   "metadata": {},
   "source": [
    "## Кодирование"
   ]
  },
  {
   "cell_type": "markdown",
   "metadata": {},
   "source": [
    "Закодируем переменную Тип, где МАФ - 1, встроенный - 0 и переменную успех, где 0 - неуспешная, 1-успешная точка."
   ]
  },
  {
   "cell_type": "code",
   "execution_count": 22,
   "metadata": {},
   "outputs": [],
   "source": [
    "from sklearn import preprocessing\n",
    "dfm = df\n",
    "dfm['type'] = preprocessing.LabelEncoder().fit_transform(dfm['type'])"
   ]
  },
  {
   "cell_type": "code",
   "execution_count": 23,
   "metadata": {},
   "outputs": [
    {
     "data": {
      "text/html": [
       "<div>\n",
       "<style scoped>\n",
       "    .dataframe tbody tr th:only-of-type {\n",
       "        vertical-align: middle;\n",
       "    }\n",
       "\n",
       "    .dataframe tbody tr th {\n",
       "        vertical-align: top;\n",
       "    }\n",
       "\n",
       "    .dataframe thead th {\n",
       "        text-align: right;\n",
       "    }\n",
       "</style>\n",
       "<table border=\"1\" class=\"dataframe\">\n",
       "  <thead>\n",
       "    <tr style=\"text-align: right;\">\n",
       "      <th></th>\n",
       "      <th>square</th>\n",
       "      <th>type</th>\n",
       "      <th>staff</th>\n",
       "      <th>reviews</th>\n",
       "      <th>store_checks</th>\n",
       "      <th>number_of_units</th>\n",
       "      <th>cars_per_day</th>\n",
       "      <th>average_income_of_customers</th>\n",
       "      <th>road</th>\n",
       "      <th>place_for_walk</th>\n",
       "      <th>coating_quality</th>\n",
       "      <th>spontaneous_trade</th>\n",
       "      <th>place_for_picnic</th>\n",
       "      <th>success</th>\n",
       "    </tr>\n",
       "  </thead>\n",
       "  <tbody>\n",
       "    <tr>\n",
       "      <th>0</th>\n",
       "      <td>9.00</td>\n",
       "      <td>1</td>\n",
       "      <td>2.0</td>\n",
       "      <td>42.820513</td>\n",
       "      <td>571.0</td>\n",
       "      <td>1.56</td>\n",
       "      <td>12679.0</td>\n",
       "      <td>14910.0</td>\n",
       "      <td>0.0</td>\n",
       "      <td>0.0</td>\n",
       "      <td>0.0</td>\n",
       "      <td>0.0</td>\n",
       "      <td>0.0</td>\n",
       "      <td>0</td>\n",
       "    </tr>\n",
       "    <tr>\n",
       "      <th>1</th>\n",
       "      <td>30.00</td>\n",
       "      <td>1</td>\n",
       "      <td>2.0</td>\n",
       "      <td>8.000000</td>\n",
       "      <td>1197.0</td>\n",
       "      <td>2.03</td>\n",
       "      <td>12800.0</td>\n",
       "      <td>9030.0</td>\n",
       "      <td>0.0</td>\n",
       "      <td>0.0</td>\n",
       "      <td>0.0</td>\n",
       "      <td>0.0</td>\n",
       "      <td>0.0</td>\n",
       "      <td>0</td>\n",
       "    </tr>\n",
       "    <tr>\n",
       "      <th>2</th>\n",
       "      <td>15.00</td>\n",
       "      <td>1</td>\n",
       "      <td>2.0</td>\n",
       "      <td>42.820513</td>\n",
       "      <td>402.0</td>\n",
       "      <td>1.81</td>\n",
       "      <td>77106.0</td>\n",
       "      <td>9030.0</td>\n",
       "      <td>0.0</td>\n",
       "      <td>0.0</td>\n",
       "      <td>0.0</td>\n",
       "      <td>0.0</td>\n",
       "      <td>0.0</td>\n",
       "      <td>0</td>\n",
       "    </tr>\n",
       "    <tr>\n",
       "      <th>3</th>\n",
       "      <td>20.00</td>\n",
       "      <td>1</td>\n",
       "      <td>2.0</td>\n",
       "      <td>42.820513</td>\n",
       "      <td>1036.0</td>\n",
       "      <td>2.18</td>\n",
       "      <td>0.0</td>\n",
       "      <td>13930.0</td>\n",
       "      <td>0.0</td>\n",
       "      <td>0.0</td>\n",
       "      <td>0.0</td>\n",
       "      <td>0.0</td>\n",
       "      <td>0.0</td>\n",
       "      <td>0</td>\n",
       "    </tr>\n",
       "    <tr>\n",
       "      <th>4</th>\n",
       "      <td>30.00</td>\n",
       "      <td>0</td>\n",
       "      <td>2.0</td>\n",
       "      <td>42.820513</td>\n",
       "      <td>513.0</td>\n",
       "      <td>1.63</td>\n",
       "      <td>0.0</td>\n",
       "      <td>14560.0</td>\n",
       "      <td>0.0</td>\n",
       "      <td>0.0</td>\n",
       "      <td>0.0</td>\n",
       "      <td>0.0</td>\n",
       "      <td>0.0</td>\n",
       "      <td>0</td>\n",
       "    </tr>\n",
       "    <tr>\n",
       "      <th>...</th>\n",
       "      <td>...</td>\n",
       "      <td>...</td>\n",
       "      <td>...</td>\n",
       "      <td>...</td>\n",
       "      <td>...</td>\n",
       "      <td>...</td>\n",
       "      <td>...</td>\n",
       "      <td>...</td>\n",
       "      <td>...</td>\n",
       "      <td>...</td>\n",
       "      <td>...</td>\n",
       "      <td>...</td>\n",
       "      <td>...</td>\n",
       "      <td>...</td>\n",
       "    </tr>\n",
       "    <tr>\n",
       "      <th>63</th>\n",
       "      <td>30.00</td>\n",
       "      <td>1</td>\n",
       "      <td>2.0</td>\n",
       "      <td>25.000000</td>\n",
       "      <td>2464.0</td>\n",
       "      <td>1.94</td>\n",
       "      <td>8771.0</td>\n",
       "      <td>11130.0</td>\n",
       "      <td>1.0</td>\n",
       "      <td>1.0</td>\n",
       "      <td>0.0</td>\n",
       "      <td>0.0</td>\n",
       "      <td>0.0</td>\n",
       "      <td>0</td>\n",
       "    </tr>\n",
       "    <tr>\n",
       "      <th>64</th>\n",
       "      <td>51.77</td>\n",
       "      <td>1</td>\n",
       "      <td>6.0</td>\n",
       "      <td>4.000000</td>\n",
       "      <td>6669.0</td>\n",
       "      <td>1.89</td>\n",
       "      <td>146.0</td>\n",
       "      <td>9800.0</td>\n",
       "      <td>1.0</td>\n",
       "      <td>0.0</td>\n",
       "      <td>0.0</td>\n",
       "      <td>0.0</td>\n",
       "      <td>0.0</td>\n",
       "      <td>1</td>\n",
       "    </tr>\n",
       "    <tr>\n",
       "      <th>65</th>\n",
       "      <td>27.26</td>\n",
       "      <td>1</td>\n",
       "      <td>4.0</td>\n",
       "      <td>3.000000</td>\n",
       "      <td>2877.0</td>\n",
       "      <td>1.85</td>\n",
       "      <td>6661.0</td>\n",
       "      <td>12600.0</td>\n",
       "      <td>0.0</td>\n",
       "      <td>0.0</td>\n",
       "      <td>0.0</td>\n",
       "      <td>0.0</td>\n",
       "      <td>0.0</td>\n",
       "      <td>1</td>\n",
       "    </tr>\n",
       "    <tr>\n",
       "      <th>67</th>\n",
       "      <td>50.93</td>\n",
       "      <td>0</td>\n",
       "      <td>3.0</td>\n",
       "      <td>17.000000</td>\n",
       "      <td>413.0</td>\n",
       "      <td>1.73</td>\n",
       "      <td>0.0</td>\n",
       "      <td>12460.0</td>\n",
       "      <td>0.0</td>\n",
       "      <td>0.0</td>\n",
       "      <td>0.0</td>\n",
       "      <td>0.0</td>\n",
       "      <td>0.0</td>\n",
       "      <td>0</td>\n",
       "    </tr>\n",
       "    <tr>\n",
       "      <th>68</th>\n",
       "      <td>30.00</td>\n",
       "      <td>1</td>\n",
       "      <td>3.0</td>\n",
       "      <td>12.000000</td>\n",
       "      <td>3156.0</td>\n",
       "      <td>2.13</td>\n",
       "      <td>0.0</td>\n",
       "      <td>10430.0</td>\n",
       "      <td>1.0</td>\n",
       "      <td>0.0</td>\n",
       "      <td>0.0</td>\n",
       "      <td>0.0</td>\n",
       "      <td>0.0</td>\n",
       "      <td>1</td>\n",
       "    </tr>\n",
       "  </tbody>\n",
       "</table>\n",
       "<p>64 rows × 14 columns</p>\n",
       "</div>"
      ],
      "text/plain": [
       "    square  type  staff    reviews  store_checks  number_of_units  \\\n",
       "0     9.00     1    2.0  42.820513         571.0             1.56   \n",
       "1    30.00     1    2.0   8.000000        1197.0             2.03   \n",
       "2    15.00     1    2.0  42.820513         402.0             1.81   \n",
       "3    20.00     1    2.0  42.820513        1036.0             2.18   \n",
       "4    30.00     0    2.0  42.820513         513.0             1.63   \n",
       "..     ...   ...    ...        ...           ...              ...   \n",
       "63   30.00     1    2.0  25.000000        2464.0             1.94   \n",
       "64   51.77     1    6.0   4.000000        6669.0             1.89   \n",
       "65   27.26     1    4.0   3.000000        2877.0             1.85   \n",
       "67   50.93     0    3.0  17.000000         413.0             1.73   \n",
       "68   30.00     1    3.0  12.000000        3156.0             2.13   \n",
       "\n",
       "    cars_per_day  average_income_of_customers  road  place_for_walk  \\\n",
       "0        12679.0                      14910.0   0.0             0.0   \n",
       "1        12800.0                       9030.0   0.0             0.0   \n",
       "2        77106.0                       9030.0   0.0             0.0   \n",
       "3            0.0                      13930.0   0.0             0.0   \n",
       "4            0.0                      14560.0   0.0             0.0   \n",
       "..           ...                          ...   ...             ...   \n",
       "63        8771.0                      11130.0   1.0             1.0   \n",
       "64         146.0                       9800.0   1.0             0.0   \n",
       "65        6661.0                      12600.0   0.0             0.0   \n",
       "67           0.0                      12460.0   0.0             0.0   \n",
       "68           0.0                      10430.0   1.0             0.0   \n",
       "\n",
       "    coating_quality  spontaneous_trade  place_for_picnic  success  \n",
       "0               0.0                0.0               0.0        0  \n",
       "1               0.0                0.0               0.0        0  \n",
       "2               0.0                0.0               0.0        0  \n",
       "3               0.0                0.0               0.0        0  \n",
       "4               0.0                0.0               0.0        0  \n",
       "..              ...                ...               ...      ...  \n",
       "63              0.0                0.0               0.0        0  \n",
       "64              0.0                0.0               0.0        1  \n",
       "65              0.0                0.0               0.0        1  \n",
       "67              0.0                0.0               0.0        0  \n",
       "68              0.0                0.0               0.0        1  \n",
       "\n",
       "[64 rows x 14 columns]"
      ]
     },
     "execution_count": 23,
     "metadata": {},
     "output_type": "execute_result"
    }
   ],
   "source": [
    "dfm = df\n",
    "dfm['success'] = preprocessing.LabelEncoder().fit_transform(dfm['success'])\n",
    "dfm"
   ]
  },
  {
   "cell_type": "markdown",
   "metadata": {},
   "source": [
    "## Корреляционная матрица"
   ]
  },
  {
   "cell_type": "markdown",
   "metadata": {},
   "source": [
    "Выводим матрицу корреляций, чтобы посмотреть на зависимости переменных."
   ]
  },
  {
   "cell_type": "code",
   "execution_count": 24,
   "metadata": {},
   "outputs": [
    {
     "data": {
      "image/png": "[encoded data removed]",
      "text/plain": [
       "<Figure size 864x648 with 2 Axes>"
      ]
     },
     "metadata": {
      "needs_background": "light"
     },
     "output_type": "display_data"
    }
   ],
   "source": [
    "import seaborn as sns\n",
    "corrmat = df.corr()\n",
    "f, ax = plt.subplots(figsize=(12, 9))\n",
    "sns.heatmap(corrmat, annot=True)\n",
    "plt.show()"
   ]
  },
  {
   "cell_type": "markdown",
   "metadata": {},
   "source": [
    "Видим, что среднеее количество единиц в чеке достаточно сильно коррелируют с количеством сотрудников и отзывами, поэтому удалим его."
   ]
  },
  {
   "cell_type": "code",
   "execution_count": 25,
   "metadata": {},
   "outputs": [
    {
     "data": {
      "text/html": [
       "<div>\n",
       "<style scoped>\n",
       "    .dataframe tbody tr th:only-of-type {\n",
       "        vertical-align: middle;\n",
       "    }\n",
       "\n",
       "    .dataframe tbody tr th {\n",
       "        vertical-align: top;\n",
       "    }\n",
       "\n",
       "    .dataframe thead th {\n",
       "        text-align: right;\n",
       "    }\n",
       "</style>\n",
       "<table border=\"1\" class=\"dataframe\">\n",
       "  <thead>\n",
       "    <tr style=\"text-align: right;\">\n",
       "      <th></th>\n",
       "      <th>square</th>\n",
       "      <th>type</th>\n",
       "      <th>reviews</th>\n",
       "      <th>cars_per_day</th>\n",
       "      <th>average_income_of_customers</th>\n",
       "      <th>road</th>\n",
       "      <th>place_for_walk</th>\n",
       "      <th>coating_quality</th>\n",
       "      <th>spontaneous_trade</th>\n",
       "      <th>place_for_picnic</th>\n",
       "      <th>success</th>\n",
       "    </tr>\n",
       "  </thead>\n",
       "  <tbody>\n",
       "    <tr>\n",
       "      <th>0</th>\n",
       "      <td>9.0</td>\n",
       "      <td>1</td>\n",
       "      <td>42.820513</td>\n",
       "      <td>12679.0</td>\n",
       "      <td>14910.0</td>\n",
       "      <td>0.0</td>\n",
       "      <td>0.0</td>\n",
       "      <td>0.0</td>\n",
       "      <td>0.0</td>\n",
       "      <td>0.0</td>\n",
       "      <td>0</td>\n",
       "    </tr>\n",
       "    <tr>\n",
       "      <th>1</th>\n",
       "      <td>30.0</td>\n",
       "      <td>1</td>\n",
       "      <td>8.000000</td>\n",
       "      <td>12800.0</td>\n",
       "      <td>9030.0</td>\n",
       "      <td>0.0</td>\n",
       "      <td>0.0</td>\n",
       "      <td>0.0</td>\n",
       "      <td>0.0</td>\n",
       "      <td>0.0</td>\n",
       "      <td>0</td>\n",
       "    </tr>\n",
       "    <tr>\n",
       "      <th>2</th>\n",
       "      <td>15.0</td>\n",
       "      <td>1</td>\n",
       "      <td>42.820513</td>\n",
       "      <td>77106.0</td>\n",
       "      <td>9030.0</td>\n",
       "      <td>0.0</td>\n",
       "      <td>0.0</td>\n",
       "      <td>0.0</td>\n",
       "      <td>0.0</td>\n",
       "      <td>0.0</td>\n",
       "      <td>0</td>\n",
       "    </tr>\n",
       "    <tr>\n",
       "      <th>3</th>\n",
       "      <td>20.0</td>\n",
       "      <td>1</td>\n",
       "      <td>42.820513</td>\n",
       "      <td>0.0</td>\n",
       "      <td>13930.0</td>\n",
       "      <td>0.0</td>\n",
       "      <td>0.0</td>\n",
       "      <td>0.0</td>\n",
       "      <td>0.0</td>\n",
       "      <td>0.0</td>\n",
       "      <td>0</td>\n",
       "    </tr>\n",
       "    <tr>\n",
       "      <th>4</th>\n",
       "      <td>30.0</td>\n",
       "      <td>0</td>\n",
       "      <td>42.820513</td>\n",
       "      <td>0.0</td>\n",
       "      <td>14560.0</td>\n",
       "      <td>0.0</td>\n",
       "      <td>0.0</td>\n",
       "      <td>0.0</td>\n",
       "      <td>0.0</td>\n",
       "      <td>0.0</td>\n",
       "      <td>0</td>\n",
       "    </tr>\n",
       "  </tbody>\n",
       "</table>\n",
       "</div>"
      ],
      "text/plain": [
       "   square  type    reviews  cars_per_day  average_income_of_customers  road  \\\n",
       "0     9.0     1  42.820513       12679.0                      14910.0   0.0   \n",
       "1    30.0     1   8.000000       12800.0                       9030.0   0.0   \n",
       "2    15.0     1  42.820513       77106.0                       9030.0   0.0   \n",
       "3    20.0     1  42.820513           0.0                      13930.0   0.0   \n",
       "4    30.0     0  42.820513           0.0                      14560.0   0.0   \n",
       "\n",
       "   place_for_walk  coating_quality  spontaneous_trade  place_for_picnic  \\\n",
       "0             0.0              0.0                0.0               0.0   \n",
       "1             0.0              0.0                0.0               0.0   \n",
       "2             0.0              0.0                0.0               0.0   \n",
       "3             0.0              0.0                0.0               0.0   \n",
       "4             0.0              0.0                0.0               0.0   \n",
       "\n",
       "   success  \n",
       "0        0  \n",
       "1        0  \n",
       "2        0  \n",
       "3        0  \n",
       "4        0  "
      ]
     },
     "execution_count": 25,
     "metadata": {},
     "output_type": "execute_result"
    }
   ],
   "source": [
    "df = df.drop(['number_of_units','store_checks','staff'], axis='columns', inplace=False)\n",
    "df.head(5)"
   ]
  },
  {
   "cell_type": "markdown",
   "metadata": {},
   "source": [
    "## Экспорт датасета"
   ]
  },
  {
   "cell_type": "code",
   "execution_count": 26,
   "metadata": {},
   "outputs": [],
   "source": [
    "df.to_csv('Nikiforova_prep.csv', sep=';', index=False)"
   ]
  }
 ],
 "metadata": {
  "kernelspec": {
   "display_name": "Python 3",
   "language": "python",
   "name": "python3"
  },
  "language_info": {
   "codemirror_mode": {
    "name": "ipython",
    "version": 3
   },
   "file_extension": ".py",
   "mimetype": "text/x-python",
   "name": "python",
   "nbconvert_exporter": "python",
   "pygments_lexer": "ipython3",
   "version": "3.8.5"
  }
 },
 "nbformat": 4,
 "nbformat_minor": 4
}
