{
 "cells": [
  {
   "cell_type": "markdown",
   "metadata": {},
   "source": [
    "## K-Means Clustering"
   ]
  },
  {
   "cell_type": "code",
   "execution_count": 1,
   "metadata": {},
   "outputs": [],
   "source": [
    "import numpy as np\n",
    "import matplotlib.pyplot as plt\n",
    "import pandas as pd"
   ]
  },
  {
   "cell_type": "code",
   "execution_count": 2,
   "metadata": {},
   "outputs": [
    {
     "data": {
      "text/html": [
       "<div>\n",
       "<style scoped>\n",
       "    .dataframe tbody tr th:only-of-type {\n",
       "        vertical-align: middle;\n",
       "    }\n",
       "\n",
       "    .dataframe tbody tr th {\n",
       "        vertical-align: top;\n",
       "    }\n",
       "\n",
       "    .dataframe thead th {\n",
       "        text-align: right;\n",
       "    }\n",
       "</style>\n",
       "<table border=\"1\" class=\"dataframe\">\n",
       "  <thead>\n",
       "    <tr style=\"text-align: right;\">\n",
       "      <th></th>\n",
       "      <th>square</th>\n",
       "      <th>type</th>\n",
       "      <th>reviews</th>\n",
       "      <th>cars_per_day</th>\n",
       "      <th>average_income_of_customers</th>\n",
       "      <th>road</th>\n",
       "      <th>place_for_walk</th>\n",
       "      <th>coating_quality</th>\n",
       "      <th>spontaneous_trade</th>\n",
       "      <th>place_for_picnic</th>\n",
       "      <th>success</th>\n",
       "    </tr>\n",
       "  </thead>\n",
       "  <tbody>\n",
       "    <tr>\n",
       "      <th>0</th>\n",
       "      <td>9.00</td>\n",
       "      <td>1</td>\n",
       "      <td>42.820513</td>\n",
       "      <td>12679.0</td>\n",
       "      <td>14910.0</td>\n",
       "      <td>0.0</td>\n",
       "      <td>0.0</td>\n",
       "      <td>0.0</td>\n",
       "      <td>0.0</td>\n",
       "      <td>0.0</td>\n",
       "      <td>0</td>\n",
       "    </tr>\n",
       "    <tr>\n",
       "      <th>1</th>\n",
       "      <td>30.00</td>\n",
       "      <td>1</td>\n",
       "      <td>8.000000</td>\n",
       "      <td>12800.0</td>\n",
       "      <td>9030.0</td>\n",
       "      <td>0.0</td>\n",
       "      <td>0.0</td>\n",
       "      <td>0.0</td>\n",
       "      <td>0.0</td>\n",
       "      <td>0.0</td>\n",
       "      <td>0</td>\n",
       "    </tr>\n",
       "    <tr>\n",
       "      <th>2</th>\n",
       "      <td>15.00</td>\n",
       "      <td>1</td>\n",
       "      <td>42.820513</td>\n",
       "      <td>77106.0</td>\n",
       "      <td>9030.0</td>\n",
       "      <td>0.0</td>\n",
       "      <td>0.0</td>\n",
       "      <td>0.0</td>\n",
       "      <td>0.0</td>\n",
       "      <td>0.0</td>\n",
       "      <td>0</td>\n",
       "    </tr>\n",
       "    <tr>\n",
       "      <th>3</th>\n",
       "      <td>20.00</td>\n",
       "      <td>1</td>\n",
       "      <td>42.820513</td>\n",
       "      <td>0.0</td>\n",
       "      <td>13930.0</td>\n",
       "      <td>0.0</td>\n",
       "      <td>0.0</td>\n",
       "      <td>0.0</td>\n",
       "      <td>0.0</td>\n",
       "      <td>0.0</td>\n",
       "      <td>0</td>\n",
       "    </tr>\n",
       "    <tr>\n",
       "      <th>4</th>\n",
       "      <td>30.00</td>\n",
       "      <td>0</td>\n",
       "      <td>42.820513</td>\n",
       "      <td>0.0</td>\n",
       "      <td>14560.0</td>\n",
       "      <td>0.0</td>\n",
       "      <td>0.0</td>\n",
       "      <td>0.0</td>\n",
       "      <td>0.0</td>\n",
       "      <td>0.0</td>\n",
       "      <td>0</td>\n",
       "    </tr>\n",
       "    <tr>\n",
       "      <th>...</th>\n",
       "      <td>...</td>\n",
       "      <td>...</td>\n",
       "      <td>...</td>\n",
       "      <td>...</td>\n",
       "      <td>...</td>\n",
       "      <td>...</td>\n",
       "      <td>...</td>\n",
       "      <td>...</td>\n",
       "      <td>...</td>\n",
       "      <td>...</td>\n",
       "      <td>...</td>\n",
       "    </tr>\n",
       "    <tr>\n",
       "      <th>59</th>\n",
       "      <td>30.00</td>\n",
       "      <td>1</td>\n",
       "      <td>25.000000</td>\n",
       "      <td>8771.0</td>\n",
       "      <td>11130.0</td>\n",
       "      <td>1.0</td>\n",
       "      <td>1.0</td>\n",
       "      <td>0.0</td>\n",
       "      <td>0.0</td>\n",
       "      <td>0.0</td>\n",
       "      <td>0</td>\n",
       "    </tr>\n",
       "    <tr>\n",
       "      <th>60</th>\n",
       "      <td>51.77</td>\n",
       "      <td>1</td>\n",
       "      <td>4.000000</td>\n",
       "      <td>146.0</td>\n",
       "      <td>9800.0</td>\n",
       "      <td>1.0</td>\n",
       "      <td>0.0</td>\n",
       "      <td>0.0</td>\n",
       "      <td>0.0</td>\n",
       "      <td>0.0</td>\n",
       "      <td>1</td>\n",
       "    </tr>\n",
       "    <tr>\n",
       "      <th>61</th>\n",
       "      <td>27.26</td>\n",
       "      <td>1</td>\n",
       "      <td>3.000000</td>\n",
       "      <td>6661.0</td>\n",
       "      <td>12600.0</td>\n",
       "      <td>0.0</td>\n",
       "      <td>0.0</td>\n",
       "      <td>0.0</td>\n",
       "      <td>0.0</td>\n",
       "      <td>0.0</td>\n",
       "      <td>1</td>\n",
       "    </tr>\n",
       "    <tr>\n",
       "      <th>62</th>\n",
       "      <td>50.93</td>\n",
       "      <td>0</td>\n",
       "      <td>17.000000</td>\n",
       "      <td>0.0</td>\n",
       "      <td>12460.0</td>\n",
       "      <td>0.0</td>\n",
       "      <td>0.0</td>\n",
       "      <td>0.0</td>\n",
       "      <td>0.0</td>\n",
       "      <td>0.0</td>\n",
       "      <td>0</td>\n",
       "    </tr>\n",
       "    <tr>\n",
       "      <th>63</th>\n",
       "      <td>30.00</td>\n",
       "      <td>1</td>\n",
       "      <td>12.000000</td>\n",
       "      <td>0.0</td>\n",
       "      <td>10430.0</td>\n",
       "      <td>1.0</td>\n",
       "      <td>0.0</td>\n",
       "      <td>0.0</td>\n",
       "      <td>0.0</td>\n",
       "      <td>0.0</td>\n",
       "      <td>1</td>\n",
       "    </tr>\n",
       "  </tbody>\n",
       "</table>\n",
       "<p>64 rows × 11 columns</p>\n",
       "</div>"
      ],
      "text/plain": [
       "    square  type    reviews  cars_per_day  average_income_of_customers  road  \\\n",
       "0     9.00     1  42.820513       12679.0                      14910.0   0.0   \n",
       "1    30.00     1   8.000000       12800.0                       9030.0   0.0   \n",
       "2    15.00     1  42.820513       77106.0                       9030.0   0.0   \n",
       "3    20.00     1  42.820513           0.0                      13930.0   0.0   \n",
       "4    30.00     0  42.820513           0.0                      14560.0   0.0   \n",
       "..     ...   ...        ...           ...                          ...   ...   \n",
       "59   30.00     1  25.000000        8771.0                      11130.0   1.0   \n",
       "60   51.77     1   4.000000         146.0                       9800.0   1.0   \n",
       "61   27.26     1   3.000000        6661.0                      12600.0   0.0   \n",
       "62   50.93     0  17.000000           0.0                      12460.0   0.0   \n",
       "63   30.00     1  12.000000           0.0                      10430.0   1.0   \n",
       "\n",
       "    place_for_walk  coating_quality  spontaneous_trade  place_for_picnic  \\\n",
       "0              0.0              0.0                0.0               0.0   \n",
       "1              0.0              0.0                0.0               0.0   \n",
       "2              0.0              0.0                0.0               0.0   \n",
       "3              0.0              0.0                0.0               0.0   \n",
       "4              0.0              0.0                0.0               0.0   \n",
       "..             ...              ...                ...               ...   \n",
       "59             1.0              0.0                0.0               0.0   \n",
       "60             0.0              0.0                0.0               0.0   \n",
       "61             0.0              0.0                0.0               0.0   \n",
       "62             0.0              0.0                0.0               0.0   \n",
       "63             0.0              0.0                0.0               0.0   \n",
       "\n",
       "    success  \n",
       "0         0  \n",
       "1         0  \n",
       "2         0  \n",
       "3         0  \n",
       "4         0  \n",
       "..      ...  \n",
       "59        0  \n",
       "60        1  \n",
       "61        1  \n",
       "62        0  \n",
       "63        1  \n",
       "\n",
       "[64 rows x 11 columns]"
      ]
     },
     "execution_count": 2,
     "metadata": {},
     "output_type": "execute_result"
    }
   ],
   "source": [
    "df = pd.read_csv('Nikiforova_prep.csv', sep=';')\n",
    "df"
   ]
  },
  {
   "cell_type": "markdown",
   "metadata": {},
   "source": [
    "Проводим шкалирование."
   ]
  },
  {
   "cell_type": "code",
   "execution_count": 3,
   "metadata": {},
   "outputs": [],
   "source": [
    "from sklearn.preprocessing import MinMaxScaler\n",
    "sc = MinMaxScaler().fit(df)\n",
    "df = sc.transform(df)\n",
    "df = pd.DataFrame(df, columns = ['square','type','reviews','cars_per_day','average_income_of_customers','road','place_for_walk','coating_quality','spontaneous_trade','place_for_picnic','success']).round()"
   ]
  },
  {
   "cell_type": "markdown",
   "metadata": {},
   "source": [
    "Для того, чтобы определить оптимальное количество кластеров, используем метод локтя. Видим, что можно выбрать либо 3, либо 4 кластера."
   ]
  },
  {
   "cell_type": "code",
   "execution_count": 4,
   "metadata": {},
   "outputs": [
    {
     "data": {
      "image/png": "[encoded data removed]",
      "text/plain": [
       "<Figure size 432x288 with 1 Axes>"
      ]
     },
     "metadata": {
      "needs_background": "light"
     },
     "output_type": "display_data"
    }
   ],
   "source": [
    "from sklearn.cluster import KMeans\n",
    "wcss = []\n",
    "for i in range(1, 11):\n",
    "    kmeans = KMeans(n_clusters = i, init = 'k-means++', random_state = 0)\n",
    "    kmeans.fit(df)\n",
    "    wcss.append(kmeans.inertia_)\n",
    "plt.plot(range(1, 11), wcss)\n",
    "plt.title('The Elbow Method')\n",
    "plt.xlabel('Number of clusters')\n",
    "plt.ylabel('WCSS')\n",
    "plt.show()"
   ]
  },
  {
   "cell_type": "markdown",
   "metadata": {},
   "source": [
    "Используем ещё один метод для окончательного определения - метод силуэта. Он нам говорит, что чем больше кластеров, тем лучше. Но я бы остановилась на 4."
   ]
  },
  {
   "cell_type": "code",
   "execution_count": 5,
   "metadata": {},
   "outputs": [
    {
     "data": {
      "image/png": "[encoded data removed]",
      "text/plain": [
       "<Figure size 432x288 with 1 Axes>"
      ]
     },
     "metadata": {
      "needs_background": "light"
     },
     "output_type": "display_data"
    },
    {
     "name": "stdout",
     "output_type": "stream",
     "text": [
      "2:0.24560009439810224\n",
      "3:0.254219815523203\n",
      "4:0.27694393298684644\n",
      "5:0.2801870872937213\n"
     ]
    }
   ],
   "source": [
    "from sklearn.metrics import silhouette_score\n",
    "\n",
    "sil = []\n",
    "\n",
    "for k in range(2, 6):\n",
    "  kmeans = KMeans(n_clusters = k).fit(df)  \n",
    "  preds = kmeans.fit_predict(df)\n",
    "  sil.append(silhouette_score(df, preds, metric = 'euclidean'))\n",
    "\n",
    "\n",
    "plt.plot(range(2, 6), sil)\n",
    "plt.title('Silhouette Method')\n",
    "plt.xlabel('Number of clusters')\n",
    "plt.ylabel('Sil')\n",
    "plt.show()\n",
    "\n",
    "for i in range(len(sil)):\n",
    " print(str(i+2) +\":\"+ str(sil[i]))"
   ]
  },
  {
   "cell_type": "markdown",
   "metadata": {},
   "source": [
    "Пока можем сказать, что с таким количеством не всегда значимых переменных очень сложно дать интерпретацию полученным кластерам. Поэтому предлагаю перейти к построению только на значимых переменных. Отмечу, что значимые переменные являются и самыми вариативными."
   ]
  },
  {
   "cell_type": "code",
   "execution_count": 6,
   "metadata": {},
   "outputs": [
    {
     "data": {
      "text/html": [
       "<div>\n",
       "<style scoped>\n",
       "    .dataframe tbody tr th:only-of-type {\n",
       "        vertical-align: middle;\n",
       "    }\n",
       "\n",
       "    .dataframe tbody tr th {\n",
       "        vertical-align: top;\n",
       "    }\n",
       "\n",
       "    .dataframe thead th {\n",
       "        text-align: right;\n",
       "    }\n",
       "</style>\n",
       "<table border=\"1\" class=\"dataframe\">\n",
       "  <thead>\n",
       "    <tr style=\"text-align: right;\">\n",
       "      <th></th>\n",
       "      <th>square</th>\n",
       "      <th>type</th>\n",
       "      <th>reviews</th>\n",
       "      <th>cars_per_day</th>\n",
       "      <th>average_income_of_customers</th>\n",
       "      <th>road</th>\n",
       "      <th>place_for_walk</th>\n",
       "      <th>coating_quality</th>\n",
       "      <th>spontaneous_trade</th>\n",
       "      <th>place_for_picnic</th>\n",
       "      <th>success</th>\n",
       "    </tr>\n",
       "  </thead>\n",
       "  <tbody>\n",
       "    <tr>\n",
       "      <th>0</th>\n",
       "      <td>0.000000</td>\n",
       "      <td>0.000000</td>\n",
       "      <td>0.083333</td>\n",
       "      <td>0.000000</td>\n",
       "      <td>0.166667</td>\n",
       "      <td>0.750000</td>\n",
       "      <td>1.0</td>\n",
       "      <td>0.000000</td>\n",
       "      <td>0.000000</td>\n",
       "      <td>0.083333</td>\n",
       "      <td>0.583333</td>\n",
       "    </tr>\n",
       "    <tr>\n",
       "      <th>1</th>\n",
       "      <td>0.066667</td>\n",
       "      <td>0.000000</td>\n",
       "      <td>0.066667</td>\n",
       "      <td>0.066667</td>\n",
       "      <td>0.000000</td>\n",
       "      <td>0.800000</td>\n",
       "      <td>0.0</td>\n",
       "      <td>0.200000</td>\n",
       "      <td>0.333333</td>\n",
       "      <td>0.066667</td>\n",
       "      <td>0.666667</td>\n",
       "    </tr>\n",
       "    <tr>\n",
       "      <th>2</th>\n",
       "      <td>0.095238</td>\n",
       "      <td>0.047619</td>\n",
       "      <td>0.000000</td>\n",
       "      <td>0.238095</td>\n",
       "      <td>1.000000</td>\n",
       "      <td>0.190476</td>\n",
       "      <td>0.0</td>\n",
       "      <td>0.095238</td>\n",
       "      <td>0.095238</td>\n",
       "      <td>0.047619</td>\n",
       "      <td>0.190476</td>\n",
       "    </tr>\n",
       "    <tr>\n",
       "      <th>3</th>\n",
       "      <td>0.312500</td>\n",
       "      <td>0.000000</td>\n",
       "      <td>0.000000</td>\n",
       "      <td>0.000000</td>\n",
       "      <td>0.000000</td>\n",
       "      <td>0.000000</td>\n",
       "      <td>0.0</td>\n",
       "      <td>0.125000</td>\n",
       "      <td>0.000000</td>\n",
       "      <td>0.000000</td>\n",
       "      <td>0.062500</td>\n",
       "    </tr>\n",
       "  </tbody>\n",
       "</table>\n",
       "</div>"
      ],
      "text/plain": [
       "     square      type   reviews  cars_per_day  average_income_of_customers  \\\n",
       "0  0.000000  0.000000  0.083333      0.000000                     0.166667   \n",
       "1  0.066667  0.000000  0.066667      0.066667                     0.000000   \n",
       "2  0.095238  0.047619  0.000000      0.238095                     1.000000   \n",
       "3  0.312500  0.000000  0.000000      0.000000                     0.000000   \n",
       "\n",
       "       road  place_for_walk  coating_quality  spontaneous_trade  \\\n",
       "0  0.750000             1.0         0.000000           0.000000   \n",
       "1  0.800000             0.0         0.200000           0.333333   \n",
       "2  0.190476             0.0         0.095238           0.095238   \n",
       "3  0.000000             0.0         0.125000           0.000000   \n",
       "\n",
       "   place_for_picnic   success  \n",
       "0          0.083333  0.583333  \n",
       "1          0.066667  0.666667  \n",
       "2          0.047619  0.190476  \n",
       "3          0.000000  0.062500  "
      ]
     },
     "execution_count": 6,
     "metadata": {},
     "output_type": "execute_result"
    }
   ],
   "source": [
    "allkm = KMeans(n_clusters = 4, init = 'k-means++', random_state = 0).fit_predict(df)\n",
    "allkms = KMeans(n_clusters = 4, random_state = 0).fit(df)\n",
    "pd.DataFrame(allkms.cluster_centers_, columns = ['square','type','reviews','cars_per_day','average_income_of_customers','road','place_for_walk','coating_quality','spontaneous_trade','place_for_picnic','success'])"
   ]
  },
  {
   "cell_type": "code",
   "execution_count": 7,
   "metadata": {},
   "outputs": [],
   "source": [
    "Y= df.iloc[:, [0,1,2,3,4,5,9]]"
   ]
  },
  {
   "cell_type": "code",
   "execution_count": 8,
   "metadata": {},
   "outputs": [
    {
     "data": {
      "text/html": [
       "<div>\n",
       "<style scoped>\n",
       "    .dataframe tbody tr th:only-of-type {\n",
       "        vertical-align: middle;\n",
       "    }\n",
       "\n",
       "    .dataframe tbody tr th {\n",
       "        vertical-align: top;\n",
       "    }\n",
       "\n",
       "    .dataframe thead th {\n",
       "        text-align: right;\n",
       "    }\n",
       "</style>\n",
       "<table border=\"1\" class=\"dataframe\">\n",
       "  <thead>\n",
       "    <tr style=\"text-align: right;\">\n",
       "      <th></th>\n",
       "      <th>square</th>\n",
       "      <th>type</th>\n",
       "      <th>reviews</th>\n",
       "      <th>cars_per_day</th>\n",
       "      <th>average_income_of_customers</th>\n",
       "      <th>road</th>\n",
       "      <th>place_for_picnic</th>\n",
       "    </tr>\n",
       "  </thead>\n",
       "  <tbody>\n",
       "    <tr>\n",
       "      <th>0</th>\n",
       "      <td>0.0</td>\n",
       "      <td>0.0</td>\n",
       "      <td>0.0</td>\n",
       "      <td>0.0</td>\n",
       "      <td>0.0</td>\n",
       "      <td>0.0</td>\n",
       "      <td>0.0</td>\n",
       "    </tr>\n",
       "    <tr>\n",
       "      <th>1</th>\n",
       "      <td>0.0</td>\n",
       "      <td>0.0</td>\n",
       "      <td>0.0</td>\n",
       "      <td>0.0</td>\n",
       "      <td>0.0</td>\n",
       "      <td>1.0</td>\n",
       "      <td>0.0</td>\n",
       "    </tr>\n",
       "    <tr>\n",
       "      <th>2</th>\n",
       "      <td>0.0</td>\n",
       "      <td>0.0</td>\n",
       "      <td>0.0</td>\n",
       "      <td>0.0</td>\n",
       "      <td>1.0</td>\n",
       "      <td>0.0</td>\n",
       "      <td>0.0</td>\n",
       "    </tr>\n",
       "  </tbody>\n",
       "</table>\n",
       "</div>"
      ],
      "text/plain": [
       "   square  type  reviews  cars_per_day  average_income_of_customers  road  \\\n",
       "0     0.0   0.0      0.0           0.0                          0.0   0.0   \n",
       "1     0.0   0.0      0.0           0.0                          0.0   1.0   \n",
       "2     0.0   0.0      0.0           0.0                          1.0   0.0   \n",
       "\n",
       "   place_for_picnic  \n",
       "0               0.0  \n",
       "1               0.0  \n",
       "2               0.0  "
      ]
     },
     "execution_count": 8,
     "metadata": {},
     "output_type": "execute_result"
    }
   ],
   "source": [
    "km3 = KMeans(n_clusters = 3, init = 'k-means++', random_state = 0).fit_predict(Y)\n",
    "kms = KMeans(n_clusters = 3, random_state = 0).fit(Y)\n",
    "pd.DataFrame(kms.cluster_centers_, columns = ['square','type','reviews','cars_per_day','average_income_of_customers','road','place_for_picnic']).round()"
   ]
  },
  {
   "cell_type": "markdown",
   "metadata": {},
   "source": [
    "Теперь проведём кластеризацию только на значимых и вариативных переменных. Тип, отзывы и машины убираем, так как они не вариативны."
   ]
  },
  {
   "cell_type": "code",
   "execution_count": 9,
   "metadata": {},
   "outputs": [],
   "source": [
    "X = df.iloc[:, [0,4,5,9]]"
   ]
  },
  {
   "cell_type": "markdown",
   "metadata": {},
   "source": [
    "Видим, что за методом локтя рекомендуется выделение 2 или 3 кластеров. За методом силуэта тоже рекомендуется чем больше, тем лучше. Но хорошо выделяются структуры уже на 3 кластерах, после чего темп роста снижается."
   ]
  },
  {
   "cell_type": "code",
   "execution_count": 10,
   "metadata": {},
   "outputs": [
    {
     "data": {
      "image/png": "[encoded data removed]",
      "text/plain": [
       "<Figure size 432x288 with 1 Axes>"
      ]
     },
     "metadata": {
      "needs_background": "light"
     },
     "output_type": "display_data"
    }
   ],
   "source": [
    "from sklearn.cluster import KMeans\n",
    "wcss = []\n",
    "for i in range(1, 6):\n",
    "    kmeans = KMeans(n_clusters = i, init = 'k-means++', random_state = 0)\n",
    "    kmeans.fit(X)\n",
    "    wcss.append(kmeans.inertia_)\n",
    "plt.plot(range(1, 6), wcss)\n",
    "plt.title('The Elbow Method')\n",
    "plt.xlabel('Number of clusters')\n",
    "plt.ylabel('WCSS')\n",
    "plt.show()"
   ]
  },
  {
   "cell_type": "code",
   "execution_count": 11,
   "metadata": {},
   "outputs": [
    {
     "data": {
      "image/png": "[encoded data removed]",
      "text/plain": [
       "<Figure size 432x288 with 1 Axes>"
      ]
     },
     "metadata": {
      "needs_background": "light"
     },
     "output_type": "display_data"
    },
    {
     "name": "stdout",
     "output_type": "stream",
     "text": [
      "2:0.4981619981170857\n",
      "3:0.6487679829756631\n",
      "4:0.7455656114608471\n",
      "5:0.8458545563573461\n"
     ]
    }
   ],
   "source": [
    "from sklearn.metrics import silhouette_score\n",
    "\n",
    "sil = []\n",
    "\n",
    "for k in range(2, 6):\n",
    "  kmeans = KMeans(n_clusters = k).fit(X)  \n",
    "  preds = kmeans.fit_predict(X)\n",
    "  sil.append(silhouette_score(X, preds, metric = 'euclidean'))\n",
    "\n",
    "\n",
    "plt.plot(range(2, 6), sil)\n",
    "plt.title('Silhouette Method')\n",
    "plt.xlabel('Number of clusters')\n",
    "plt.ylabel('Sil')\n",
    "plt.show()\n",
    "\n",
    "for i in range(len(sil)):\n",
    " print(str(i+2) +\":\"+ str(sil[i]))"
   ]
  },
  {
   "cell_type": "code",
   "execution_count": 12,
   "metadata": {},
   "outputs": [
    {
     "data": {
      "text/html": [
       "<div>\n",
       "<style scoped>\n",
       "    .dataframe tbody tr th:only-of-type {\n",
       "        vertical-align: middle;\n",
       "    }\n",
       "\n",
       "    .dataframe tbody tr th {\n",
       "        vertical-align: top;\n",
       "    }\n",
       "\n",
       "    .dataframe thead th {\n",
       "        text-align: right;\n",
       "    }\n",
       "</style>\n",
       "<table border=\"1\" class=\"dataframe\">\n",
       "  <thead>\n",
       "    <tr style=\"text-align: right;\">\n",
       "      <th></th>\n",
       "      <th>square</th>\n",
       "      <th>average_income_of_customers</th>\n",
       "      <th>road</th>\n",
       "      <th>place_for_picnic</th>\n",
       "    </tr>\n",
       "  </thead>\n",
       "  <tbody>\n",
       "    <tr>\n",
       "      <th>0</th>\n",
       "      <td>0.0</td>\n",
       "      <td>1.0</td>\n",
       "      <td>0.0</td>\n",
       "      <td>0.0</td>\n",
       "    </tr>\n",
       "    <tr>\n",
       "      <th>1</th>\n",
       "      <td>0.0</td>\n",
       "      <td>0.0</td>\n",
       "      <td>1.0</td>\n",
       "      <td>0.0</td>\n",
       "    </tr>\n",
       "    <tr>\n",
       "      <th>2</th>\n",
       "      <td>0.0</td>\n",
       "      <td>0.0</td>\n",
       "      <td>0.0</td>\n",
       "      <td>0.0</td>\n",
       "    </tr>\n",
       "  </tbody>\n",
       "</table>\n",
       "</div>"
      ],
      "text/plain": [
       "   square  average_income_of_customers  road  place_for_picnic\n",
       "0     0.0                          1.0   0.0               0.0\n",
       "1     0.0                          0.0   1.0               0.0\n",
       "2     0.0                          0.0   0.0               0.0"
      ]
     },
     "execution_count": 12,
     "metadata": {},
     "output_type": "execute_result"
    }
   ],
   "source": [
    "km_var = KMeans(n_clusters = 3, init = 'k-means++', random_state = 0).fit_predict(X)\n",
    "kms = KMeans(n_clusters = 3, random_state = 0).fit(X)\n",
    "pd.DataFrame(kms.cluster_centers_, columns = ['square','average_income_of_customers','road','place_for_picnic']).round()"
   ]
  },
  {
   "cell_type": "markdown",
   "metadata": {},
   "source": [
    "Видим, что торговый точки были поделены на 3 кластера. Площадь и место для пикника не вариативны, но их удаление приводит в совсем маленькому выделению кластеров, в связи с этим теряется смысл кластеризации. Более подробное описание кластеров пропишу в конце следующего файла. \n",
    "\n",
    "1. Высокие доходы покупателей, нет покрытия у магазина\n",
    "2. Низкие доходы покупателей, есть покрытие у магазина\n",
    "3. Низкие доходы покупателей, нет покрытия у магазина"
   ]
  },
  {
   "cell_type": "code",
   "execution_count": 13,
   "metadata": {},
   "outputs": [],
   "source": [
    "import pickle\n",
    "input = open('clust.pkl', 'rb')\n",
    "obj = pickle.load(input)\n",
    "input.close()\n",
    "hc3 = obj[\"hc3\"]\n",
    "allhc5 = obj[\"allhc5\"]\n",
    "hc_var = obj[\"hc_var\"]"
   ]
  },
  {
   "cell_type": "markdown",
   "metadata": {},
   "source": [
    "Сравниваем результат кластеризации со всеми переменными и только со значимыми. На всех переменных с выделениеv 5 кластеров схождение 60%. А вот на заначимых с выделением 3 кластеров получили 70%, что является достаточно высоким показателем. На значимых вариативных переменных  получили аж 85,7%, что очень хорошо.Окончательный вывод сделаем в следующем файле."
   ]
  },
  {
   "cell_type": "code",
   "execution_count": 14,
   "metadata": {},
   "outputs": [
    {
     "data": {
      "text/plain": [
       "0.6009569133584765"
      ]
     },
     "execution_count": 14,
     "metadata": {},
     "output_type": "execute_result"
    }
   ],
   "source": [
    "from sklearn.metrics.cluster import adjusted_rand_score\n",
    "adjusted_rand_score(allhc5,allkm)"
   ]
  },
  {
   "cell_type": "code",
   "execution_count": 15,
   "metadata": {},
   "outputs": [
    {
     "data": {
      "text/plain": [
       "0.8575279401520429"
      ]
     },
     "execution_count": 15,
     "metadata": {},
     "output_type": "execute_result"
    }
   ],
   "source": [
    "adjusted_rand_score(hc_var,km_var)"
   ]
  },
  {
   "cell_type": "code",
   "execution_count": 16,
   "metadata": {},
   "outputs": [
    {
     "data": {
      "text/plain": [
       "0.6983852113360107"
      ]
     },
     "execution_count": 16,
     "metadata": {},
     "output_type": "execute_result"
    }
   ],
   "source": [
    "adjusted_rand_score(hc3,km3)"
   ]
  },
  {
   "cell_type": "code",
   "execution_count": 17,
   "metadata": {},
   "outputs": [],
   "source": [
    "import pickle\n",
    "obj = {'km_var': km_var,'allkm': allkm,'km3': km3}\n",
    "output = open('clust-km.pkl', 'wb')\n",
    "pickle.dump(obj, output, 2)\n",
    "output.close()"
   ]
  }
 ],
 "metadata": {
  "kernelspec": {
   "display_name": "Python 3",
   "language": "python",
   "name": "python3"
  },
  "language_info": {
   "codemirror_mode": {
    "name": "ipython",
    "version": 3
   },
   "file_extension": ".py",
   "mimetype": "text/x-python",
   "name": "python",
   "nbconvert_exporter": "python",
   "pygments_lexer": "ipython3",
   "version": "3.8.5"
  }
 },
 "nbformat": 4,
 "nbformat_minor": 4
}
