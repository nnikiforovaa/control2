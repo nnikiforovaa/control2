{
 "cells": [
  {
   "cell_type": "markdown",
   "metadata": {},
   "source": [
    "## Classification Neural Network"
   ]
  },
  {
   "cell_type": "markdown",
   "metadata": {},
   "source": [
    "Импортируем библиотеки и \"законсервированный\" подготовленный датасет."
   ]
  },
  {
   "cell_type": "code",
   "execution_count": 1,
   "metadata": {},
   "outputs": [],
   "source": [
    "import numpy as np\n",
    "import matplotlib.pyplot as plt\n",
    "import pandas as pd"
   ]
  },
  {
   "cell_type": "code",
   "execution_count": 2,
   "metadata": {},
   "outputs": [],
   "source": [
    "import pickle\n",
    "input = open('data.pkl', 'rb')\n",
    "obj = pickle.load(input)\n",
    "input.close()\n",
    "X_train = obj[\"X_train\"]\n",
    "X_test = obj[\"X_test\"]\n",
    "y_train = obj[\"y_train\"]\n",
    "y_test = obj[\"y_test\"]"
   ]
  },
  {
   "cell_type": "code",
   "execution_count": 3,
   "metadata": {},
   "outputs": [],
   "source": [
    "#!pip install Tensorflow"
   ]
  },
  {
   "cell_type": "code",
   "execution_count": 4,
   "metadata": {},
   "outputs": [],
   "source": [
    "import keras\n",
    "from keras.models import Sequential\n",
    "from keras.layers import Dense"
   ]
  },
  {
   "cell_type": "markdown",
   "metadata": {},
   "source": [
    "Прописываем структуру нейронной сети.  Функцию тангенса мы не используем, так как нам не подходит её диапазон. Наиболее оптимальным вариантом является sigmoid. На выходе у нас 1 нейрон."
   ]
  },
  {
   "cell_type": "code",
   "execution_count": 5,
   "metadata": {},
   "outputs": [],
   "source": [
    "cnn = Sequential()\n",
    "\n",
    "cnn.add(Dense(7, activation = 'sigmoid', input_dim = 7))\n",
    "\n",
    "cnn.add(Dense(5, activation = 'sigmoid'))\n",
    "\n",
    "cnn.add(Dense(1, activation = 'sigmoid'))\n",
    "\n",
    "cnn.compile(optimizer = 'adam', loss = 'binary_crossentropy', metrics = ['accuracy'])"
   ]
  },
  {
   "cell_type": "code",
   "execution_count": 6,
   "metadata": {},
   "outputs": [],
   "source": [
    "import sys\n",
    "sys.setrecursionlimit(10000)"
   ]
  },
  {
   "cell_type": "markdown",
   "metadata": {},
   "source": [
    "Проводим обучение нашей сети. Эспериментальным путём получили, что оптимальный размер партии = 8 , а количество эпох = 50."
   ]
  },
  {
   "cell_type": "code",
   "execution_count": 7,
   "metadata": {},
   "outputs": [
    {
     "name": "stdout",
     "output_type": "stream",
     "text": [
      "Epoch 1/50\n",
      "7/7 [==============================] - 0s 19ms/step - loss: 0.8027 - accuracy: 0.3725 - val_loss: 0.8938 - val_accuracy: 0.2308\n",
      "Epoch 2/50\n",
      "7/7 [==============================] - 0s 6ms/step - loss: 0.7905 - accuracy: 0.3725 - val_loss: 0.8772 - val_accuracy: 0.2308\n",
      "Epoch 3/50\n",
      "7/7 [==============================] - 0s 4ms/step - loss: 0.7796 - accuracy: 0.3725 - val_loss: 0.8606 - val_accuracy: 0.2308\n",
      "Epoch 4/50\n",
      "7/7 [==============================] - 0s 4ms/step - loss: 0.7700 - accuracy: 0.3725 - val_loss: 0.8449 - val_accuracy: 0.2308\n",
      "Epoch 5/50\n",
      "7/7 [==============================] - 0s 3ms/step - loss: 0.7603 - accuracy: 0.3725 - val_loss: 0.8302 - val_accuracy: 0.2308\n",
      "Epoch 6/50\n",
      "7/7 [==============================] - 0s 3ms/step - loss: 0.7505 - accuracy: 0.3725 - val_loss: 0.8168 - val_accuracy: 0.2308\n",
      "Epoch 7/50\n",
      "7/7 [==============================] - 0s 3ms/step - loss: 0.7420 - accuracy: 0.3725 - val_loss: 0.8037 - val_accuracy: 0.2308\n",
      "Epoch 8/50\n",
      "7/7 [==============================] - 0s 4ms/step - loss: 0.7338 - accuracy: 0.3725 - val_loss: 0.7916 - val_accuracy: 0.2308\n",
      "Epoch 9/50\n",
      "7/7 [==============================] - 0s 4ms/step - loss: 0.7286 - accuracy: 0.3725 - val_loss: 0.7785 - val_accuracy: 0.2308\n",
      "Epoch 10/50\n",
      "7/7 [==============================] - 0s 4ms/step - loss: 0.7197 - accuracy: 0.3725 - val_loss: 0.7689 - val_accuracy: 0.2308\n",
      "Epoch 11/50\n",
      "7/7 [==============================] - 0s 4ms/step - loss: 0.7151 - accuracy: 0.3725 - val_loss: 0.7587 - val_accuracy: 0.2308\n",
      "Epoch 12/50\n",
      "7/7 [==============================] - 0s 3ms/step - loss: 0.7091 - accuracy: 0.3725 - val_loss: 0.7501 - val_accuracy: 0.2308\n",
      "Epoch 13/50\n",
      "7/7 [==============================] - 0s 3ms/step - loss: 0.7040 - accuracy: 0.3725 - val_loss: 0.7417 - val_accuracy: 0.2308\n",
      "Epoch 14/50\n",
      "7/7 [==============================] - 0s 4ms/step - loss: 0.6987 - accuracy: 0.3922 - val_loss: 0.7338 - val_accuracy: 0.3077\n",
      "Epoch 15/50\n",
      "7/7 [==============================] - 0s 3ms/step - loss: 0.6940 - accuracy: 0.4314 - val_loss: 0.7256 - val_accuracy: 0.3846\n",
      "Epoch 16/50\n",
      "7/7 [==============================] - 0s 4ms/step - loss: 0.6894 - accuracy: 0.4706 - val_loss: 0.7186 - val_accuracy: 0.3846\n",
      "Epoch 17/50\n",
      "7/7 [==============================] - 0s 4ms/step - loss: 0.6852 - accuracy: 0.5686 - val_loss: 0.7121 - val_accuracy: 0.3846\n",
      "Epoch 18/50\n",
      "7/7 [==============================] - 0s 3ms/step - loss: 0.6821 - accuracy: 0.5882 - val_loss: 0.7043 - val_accuracy: 0.3846\n",
      "Epoch 19/50\n",
      "7/7 [==============================] - 0s 4ms/step - loss: 0.6777 - accuracy: 0.6471 - val_loss: 0.6976 - val_accuracy: 0.4615\n",
      "Epoch 20/50\n",
      "7/7 [==============================] - 0s 3ms/step - loss: 0.6746 - accuracy: 0.6471 - val_loss: 0.6912 - val_accuracy: 0.5385\n",
      "Epoch 21/50\n",
      "7/7 [==============================] - 0s 4ms/step - loss: 0.6707 - accuracy: 0.7059 - val_loss: 0.6864 - val_accuracy: 0.5385\n",
      "Epoch 22/50\n",
      "7/7 [==============================] - 0s 4ms/step - loss: 0.6677 - accuracy: 0.7255 - val_loss: 0.6810 - val_accuracy: 0.5385\n",
      "Epoch 23/50\n",
      "7/7 [==============================] - 0s 4ms/step - loss: 0.6653 - accuracy: 0.7255 - val_loss: 0.6754 - val_accuracy: 0.6154\n",
      "Epoch 24/50\n",
      "7/7 [==============================] - 0s 4ms/step - loss: 0.6622 - accuracy: 0.6863 - val_loss: 0.6712 - val_accuracy: 0.6154\n",
      "Epoch 25/50\n",
      "7/7 [==============================] - 0s 3ms/step - loss: 0.6598 - accuracy: 0.7255 - val_loss: 0.6661 - val_accuracy: 0.5385\n",
      "Epoch 26/50\n",
      "7/7 [==============================] - 0s 4ms/step - loss: 0.6579 - accuracy: 0.7255 - val_loss: 0.6603 - val_accuracy: 0.6154\n",
      "Epoch 27/50\n",
      "7/7 [==============================] - 0s 4ms/step - loss: 0.6547 - accuracy: 0.7451 - val_loss: 0.6560 - val_accuracy: 0.6923\n",
      "Epoch 28/50\n",
      "7/7 [==============================] - 0s 4ms/step - loss: 0.6525 - accuracy: 0.7255 - val_loss: 0.6518 - val_accuracy: 0.7692\n",
      "Epoch 29/50\n",
      "7/7 [==============================] - 0s 4ms/step - loss: 0.6509 - accuracy: 0.6667 - val_loss: 0.6481 - val_accuracy: 0.7692\n",
      "Epoch 30/50\n",
      "7/7 [==============================] - 0s 4ms/step - loss: 0.6487 - accuracy: 0.6667 - val_loss: 0.6451 - val_accuracy: 0.7692\n",
      "Epoch 31/50\n",
      "7/7 [==============================] - 0s 4ms/step - loss: 0.6472 - accuracy: 0.6667 - val_loss: 0.6426 - val_accuracy: 0.7692\n",
      "Epoch 32/50\n",
      "7/7 [==============================] - 0s 4ms/step - loss: 0.6458 - accuracy: 0.6667 - val_loss: 0.6401 - val_accuracy: 0.7692\n",
      "Epoch 33/50\n",
      "7/7 [==============================] - 0s 3ms/step - loss: 0.6447 - accuracy: 0.6471 - val_loss: 0.6373 - val_accuracy: 0.7692\n",
      "Epoch 34/50\n",
      "7/7 [==============================] - 0s 4ms/step - loss: 0.6430 - accuracy: 0.6471 - val_loss: 0.6358 - val_accuracy: 0.7692\n",
      "Epoch 35/50\n",
      "7/7 [==============================] - 0s 4ms/step - loss: 0.6416 - accuracy: 0.6471 - val_loss: 0.6339 - val_accuracy: 0.7692\n",
      "Epoch 36/50\n",
      "7/7 [==============================] - 0s 4ms/step - loss: 0.6401 - accuracy: 0.6471 - val_loss: 0.6317 - val_accuracy: 0.7692\n",
      "Epoch 37/50\n",
      "7/7 [==============================] - 0s 3ms/step - loss: 0.6391 - accuracy: 0.6471 - val_loss: 0.6285 - val_accuracy: 0.7692\n",
      "Epoch 38/50\n",
      "7/7 [==============================] - 0s 4ms/step - loss: 0.6377 - accuracy: 0.6471 - val_loss: 0.6269 - val_accuracy: 0.7692\n",
      "Epoch 39/50\n",
      "7/7 [==============================] - 0s 3ms/step - loss: 0.6366 - accuracy: 0.6471 - val_loss: 0.6255 - val_accuracy: 0.7692\n",
      "Epoch 40/50\n",
      "7/7 [==============================] - 0s 4ms/step - loss: 0.6355 - accuracy: 0.6471 - val_loss: 0.6238 - val_accuracy: 0.7692\n",
      "Epoch 41/50\n",
      "7/7 [==============================] - 0s 3ms/step - loss: 0.6344 - accuracy: 0.6471 - val_loss: 0.6226 - val_accuracy: 0.7692\n",
      "Epoch 42/50\n",
      "7/7 [==============================] - 0s 4ms/step - loss: 0.6334 - accuracy: 0.6471 - val_loss: 0.6214 - val_accuracy: 0.7692\n",
      "Epoch 43/50\n",
      "7/7 [==============================] - 0s 3ms/step - loss: 0.6322 - accuracy: 0.6471 - val_loss: 0.6202 - val_accuracy: 0.7692\n",
      "Epoch 44/50\n",
      "7/7 [==============================] - 0s 4ms/step - loss: 0.6312 - accuracy: 0.6471 - val_loss: 0.6183 - val_accuracy: 0.7692\n",
      "Epoch 45/50\n",
      "7/7 [==============================] - 0s 3ms/step - loss: 0.6299 - accuracy: 0.6471 - val_loss: 0.6168 - val_accuracy: 0.7692\n",
      "Epoch 46/50\n",
      "7/7 [==============================] - 0s 4ms/step - loss: 0.6292 - accuracy: 0.6471 - val_loss: 0.6150 - val_accuracy: 0.7692\n",
      "Epoch 47/50\n",
      "7/7 [==============================] - 0s 3ms/step - loss: 0.6279 - accuracy: 0.6471 - val_loss: 0.6144 - val_accuracy: 0.7692\n",
      "Epoch 48/50\n",
      "7/7 [==============================] - 0s 4ms/step - loss: 0.6270 - accuracy: 0.6471 - val_loss: 0.6125 - val_accuracy: 0.7692\n",
      "Epoch 49/50\n",
      "7/7 [==============================] - 0s 3ms/step - loss: 0.6258 - accuracy: 0.6471 - val_loss: 0.6116 - val_accuracy: 0.7692\n",
      "Epoch 50/50\n",
      "7/7 [==============================] - 0s 4ms/step - loss: 0.6250 - accuracy: 0.6471 - val_loss: 0.6096 - val_accuracy: 0.7692\n"
     ]
    }
   ],
   "source": [
    "history = cnn.fit(X_train, y_train, batch_size = 8, epochs = 50, validation_data=(X_test, y_test))"
   ]
  },
  {
   "cell_type": "markdown",
   "metadata": {},
   "source": [
    "Теперь проанализируем графики ошибок обучения и тестирования. Ошибки сводятся к минимуму к 50 эпохе, при этом сеть остается не переобученной."
   ]
  },
  {
   "cell_type": "code",
   "execution_count": 8,
   "metadata": {},
   "outputs": [
    {
     "data": {
      "image/png": "[encoded data removed]",
      "text/plain": [
       "<Figure size 432x288 with 1 Axes>"
      ]
     },
     "metadata": {
      "needs_background": "light"
     },
     "output_type": "display_data"
    }
   ],
   "source": [
    "plt.figure()\n",
    "plt.plot(history.history['loss'],'m')\n",
    "plt.plot(history.history['val_loss'],'k')\n",
    "plt.title('model loss')\n",
    "plt.ylabel('loss')\n",
    "plt.xlabel('epoch')\n",
    "plt.legend(['train', 'test'], loc='best')\n",
    "plt.show()"
   ]
  },
  {
   "cell_type": "markdown",
   "metadata": {},
   "source": [
    "Выбираем порог отсечения также путём множества экспериментов. И в итоге имеем его равным 0,45."
   ]
  },
  {
   "cell_type": "code",
   "execution_count": 23,
   "metadata": {},
   "outputs": [],
   "source": [
    "y_pred = cnn.predict(X_test)\n",
    "y_pred = (y_pred > 0.45)"
   ]
  },
  {
   "cell_type": "markdown",
   "metadata": {},
   "source": [
    "Проанализируем таблицу сопряжённости. Видим, что сеть 9 объектов распознала верно и 4 нет. Точность модели: 69%. Доля ошибок: 31%. Это максимально хороший результат, которого мне удалось добиться, экспериментируя с параметрами сети и тд."
   ]
  },
  {
   "cell_type": "code",
   "execution_count": 24,
   "metadata": {},
   "outputs": [
    {
     "name": "stdout",
     "output_type": "stream",
     "text": [
      "[[8 2]\n",
      " [2 1]]\n"
     ]
    }
   ],
   "source": [
    "from sklearn.metrics import confusion_matrix\n",
    "cm = confusion_matrix(y_test, y_pred)\n",
    "print(cm)"
   ]
  },
  {
   "cell_type": "markdown",
   "metadata": {},
   "source": [
    "## Вывод по классификации"
   ]
  },
  {
   "cell_type": "markdown",
   "metadata": {},
   "source": [
    "Сравнивая логистическую регрессию и НС сети для классификации, делаем вывод, что НС дала более точную модель, которая позволила распознать верно 69% объектов. Напомню, что мы работали с классификацией по уровню успешности, где были успешные и неуспешные торговые точки. Оба способа классификации гораздо лучше распознают неуспешные точки. Делая выбор в пользу НС, мы должны быть готовы к тому, что она лучше распознаёт неуспешные точки (8), чем успешные (1). Да, её построение сложнее, но точность на 15% выше, даже не смотря на то, что логистическая строилась на значимых факторах."
   ]
  }
 ],
 "metadata": {
  "kernelspec": {
   "display_name": "Python 3",
   "language": "python",
   "name": "python3"
  },
  "language_info": {
   "codemirror_mode": {
    "name": "ipython",
    "version": 3
   },
   "file_extension": ".py",
   "mimetype": "text/x-python",
   "name": "python",
   "nbconvert_exporter": "python",
   "pygments_lexer": "ipython3",
   "version": "3.8.5"
  }
 },
 "nbformat": 4,
 "nbformat_minor": 4
}
